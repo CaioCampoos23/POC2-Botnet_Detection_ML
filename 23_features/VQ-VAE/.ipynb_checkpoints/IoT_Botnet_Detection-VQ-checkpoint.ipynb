{
 "cells": [
  {
   "cell_type": "markdown",
   "metadata": {
    "id": "4x2uUPGmA3Cw"
   },
   "source": [
    "# 1. DDoS Detection on IoT - Unique Model - L5 - 23 Features - VQ VAE"
   ]
  },
  {
   "cell_type": "markdown",
   "metadata": {
    "id": "qza11QGutfDw"
   },
   "source": [
    "## 1.1 Imports"
   ]
  },
  {
   "cell_type": "code",
   "execution_count": null,
   "metadata": {
    "id": "u20xHKcoKlwB"
   },
   "outputs": [],
   "source": [
    "import os\n",
    "os.environ['PYTHONHASHSEED'] = '0'\n",
    "os.environ[\"CUDA_VISIBLE_DEVICES\"]=\"-1\"\n",
    "os.environ[\"TF_CUDNN_USE_AUTOTUNE\"]=\"0\"\n",
    "\n",
    "import numpy as np\n",
    "np.random.seed(2023)\n",
    "\n",
    "import random as rn\n",
    "rn.seed(2023)\n",
    "\n",
    "import pandas as pd\n",
    "import matplotlib.pyplot as plt\n",
    "%matplotlib inline\n",
    "\n",
    "from datetime import datetime\n",
    "import time\n",
    "\n",
    "import tensorflow as tf\n",
    "tf.random.set_seed(2023)\n",
    "from tensorflow import keras\n",
    "from tensorflow.keras import layers\n",
    "import tensorflow_probability as tfp\n",
    "\n",
    "from sklearn.preprocessing import MinMaxScaler\n",
    "from sklearn.metrics import classification_report, accuracy_score\n",
    "from sklearn.metrics import confusion_matrix\n",
    "from sklearn.metrics import ConfusionMatrixDisplay\n",
    "\n",
    "import warnings\n",
    "warnings.filterwarnings('ignore')\n",
    "\n",
    "from IPython.display import set_matplotlib_formats\n",
    "set_matplotlib_formats('pdf', 'svg')\n",
    "\n",
    "import seaborn as sns\n",
    "# sns.set(color_codes=True)\n",
    "\n",
    "from keras.layers import Input, Dense\n",
    "#from keras.models import Model\n",
    "from tensorflow.keras import backend as K\n",
    "\n",
    "import json, codecs"
   ]
  },
  {
   "cell_type": "markdown",
   "metadata": {
    "id": "_6pGD5Q1CMZG"
   },
   "source": [
    "# 2. Import Datasets and Normalize"
   ]
  },
  {
   "cell_type": "markdown",
   "metadata": {
    "id": "kcQlCI3ZWQDO"
   },
   "source": [
    "## 2.1 Danmini Doorbell"
   ]
  },
  {
   "cell_type": "code",
   "execution_count": null,
   "metadata": {
    "id": "AH7WiqEkQyHM"
   },
   "outputs": [],
   "source": [
    "# Benign traffic\n",
    "\n",
    "dd_benign = pd.read_csv('/mnt/extra/2023-1_10Periodo/Poc_II/nbaiot/Danmini_Doorbell/benign_traffic.csv', encoding = \"utf-8\", sep = ',' ) \n",
    "df_dd_benign = dd_benign.copy(deep=True)\n",
    "\n",
    "columns = list(df_dd_benign.columns)\n",
    "chosen_columns = []\n",
    "\n",
    "for column in columns:\n",
    "    if column.find('L5') != -1:             # selecionando apenas intervalo L5 (100 ms)\n",
    "        chosen_columns.append(column)\n",
    "\n",
    "df_dd_benign = pd.DataFrame(df_dd_benign, columns = chosen_columns)\n",
    "\n",
    "# Mirai attacks\n",
    "dd_mirai_ack = pd.read_csv('/mnt/extra/2023-1_10Periodo/Poc_II/nbaiot/Danmini_Doorbell/mirai_attacks/ack.csv', encoding = \"utf-8\", sep = ',' ) \n",
    "df_dd_mirai_ack = dd_mirai_ack.copy(deep=True)\n",
    "df_dd_mirai_ack = pd.DataFrame(df_dd_mirai_ack, columns = chosen_columns)\n",
    "\n",
    "dd_mirai_scan = pd.read_csv('/mnt/extra/2023-1_10Periodo/Poc_II/nbaiot/Danmini_Doorbell/mirai_attacks/scan.csv', encoding = \"utf-8\", sep = ',' ) \n",
    "df_dd_mirai_scan = dd_mirai_scan.copy(deep=True)\n",
    "df_dd_mirai_scan = pd.DataFrame(df_dd_mirai_scan, columns = chosen_columns)\n",
    "\n",
    "dd_mirai_syn = pd.read_csv('/mnt/extra/2023-1_10Periodo/Poc_II/nbaiot/Danmini_Doorbell/mirai_attacks/syn.csv', encoding = \"utf-8\", sep = ',' ) \n",
    "df_dd_mirai_syn = dd_mirai_syn.copy(deep=True)\n",
    "df_dd_mirai_syn = pd.DataFrame(df_dd_mirai_syn, columns = chosen_columns)\n",
    "\n",
    "dd_mirai_udp = pd.read_csv('/mnt/extra/2023-1_10Periodo/Poc_II/nbaiot/Danmini_Doorbell/mirai_attacks/udp.csv', encoding = \"utf-8\", sep = ',' ) \n",
    "df_dd_mirai_udp = dd_mirai_udp.copy(deep=True)\n",
    "df_dd_mirai_udp = pd.DataFrame(df_dd_mirai_udp, columns = chosen_columns)\n",
    "\n",
    "dd_mirai_udpplain = pd.read_csv('/mnt/extra/2023-1_10Periodo/Poc_II/nbaiot/Danmini_Doorbell/mirai_attacks/udpplain.csv', encoding = \"utf-8\", sep = ',' ) \n",
    "df_dd_mirai_udpplain = dd_mirai_udpplain.copy(deep=True)\n",
    "df_dd_mirai_udpplain = pd.DataFrame(df_dd_mirai_udpplain, columns = chosen_columns)\n",
    "\n",
    "# Bashlite attacks\n",
    "dd_bashlite_combo = pd.read_csv('/mnt/extra/2023-1_10Periodo/Poc_II/nbaiot/Danmini_Doorbell/gafgyt_attacks/combo.csv', encoding = \"utf-8\", sep = ',' ) \n",
    "df_dd_bashlite_combo = dd_bashlite_combo.copy(deep=True)\n",
    "df_dd_bashlite_combo = pd.DataFrame(df_dd_bashlite_combo, columns = chosen_columns)\n",
    "\n",
    "dd_bashlite_junk = pd.read_csv('/mnt/extra/2023-1_10Periodo/Poc_II/nbaiot/Danmini_Doorbell/gafgyt_attacks/junk.csv', encoding = \"utf-8\", sep = ',' ) \n",
    "df_dd_bashlite_junk = dd_bashlite_junk.copy(deep=True)\n",
    "df_dd_bashlite_junk = pd.DataFrame(df_dd_bashlite_junk, columns = chosen_columns)\n",
    "\n",
    "dd_bashlite_scan = pd.read_csv('/mnt/extra/2023-1_10Periodo/Poc_II/nbaiot/Danmini_Doorbell/gafgyt_attacks/scan.csv', encoding = \"utf-8\", sep = ',' ) \n",
    "df_dd_bashlite_scan = dd_bashlite_scan.copy(deep=True)\n",
    "df_dd_bashlite_scan = pd.DataFrame(df_dd_bashlite_scan, columns = chosen_columns)\n",
    "\n",
    "dd_bashlite_udp = pd.read_csv('/mnt/extra/2023-1_10Periodo/Poc_II/nbaiot/Danmini_Doorbell/gafgyt_attacks/udp.csv', encoding = \"utf-8\", sep = ',' ) \n",
    "df_dd_bashlite_udp = dd_bashlite_udp.copy(deep=True)\n",
    "df_dd_bashlite_udp = pd.DataFrame(df_dd_bashlite_udp, columns = chosen_columns)\n",
    "\n",
    "dd_bashlite_tcp = pd.read_csv('/mnt/extra/2023-1_10Periodo/Poc_II/nbaiot/Danmini_Doorbell/gafgyt_attacks/tcp.csv', encoding = \"utf-8\", sep = ',' ) \n",
    "df_dd_bashlite_tcp = dd_bashlite_tcp.copy(deep=True)\n",
    "df_dd_bashlite_tcp = pd.DataFrame(df_dd_bashlite_tcp, columns = chosen_columns)"
   ]
  },
  {
   "cell_type": "code",
   "execution_count": null,
   "metadata": {},
   "outputs": [],
   "source": [
    "df_dd_benign.head()"
   ]
  },
  {
   "cell_type": "code",
   "execution_count": null,
   "metadata": {
    "id": "tbGWwwLEbFPY"
   },
   "outputs": [],
   "source": [
    "scaler = MinMaxScaler()\n",
    "\n",
    "df_dd_benign_norm = scaler.fit_transform(df_dd_benign)\n",
    "df_dd_miraiack_norm = scaler.fit_transform(df_dd_mirai_ack)\n",
    "df_dd_miraiscan_norm = scaler.fit_transform(df_dd_mirai_scan)\n",
    "df_dd_miraisyn_norm = scaler.fit_transform(df_dd_mirai_syn)\n",
    "df_dd_miraiudp_norm = scaler.fit_transform(df_dd_mirai_udp)\n",
    "df_dd_miraiudpplain_norm = scaler.fit_transform(df_dd_mirai_udpplain)\n",
    "\n",
    "df_dd_bashlitecombo_norm = scaler.fit_transform(df_dd_bashlite_combo)\n",
    "df_dd_bashlitejunk_norm = scaler.fit_transform(df_dd_bashlite_junk)\n",
    "df_dd_bashlitescan_norm = scaler.fit_transform(df_dd_bashlite_scan)\n",
    "df_dd_bashliteudp_norm = scaler.fit_transform(df_dd_bashlite_udp)\n",
    "df_dd_bashlitetcp_norm = scaler.fit_transform(df_dd_bashlite_tcp)"
   ]
  },
  {
   "cell_type": "markdown",
   "metadata": {
    "id": "jkXZxHagAXVC"
   },
   "source": [
    "## 2.2 Ecobee Thermostat"
   ]
  },
  {
   "cell_type": "code",
   "execution_count": null,
   "metadata": {
    "id": "NwMdi4hxAYlP"
   },
   "outputs": [],
   "source": [
    "# Benign traffic\n",
    "\n",
    "et_benign = pd.read_csv('/mnt/extra/2023-1_10Periodo/Poc_II/nbaiot/Ecobee_Thermostat/benign_traffic.csv', encoding = \"utf-8\", sep = ',' ) \n",
    "df_et_benign = et_benign.copy(deep=True)\n",
    "df_et_benign = pd.DataFrame(df_et_benign, columns = chosen_columns)\n",
    "\n",
    "# Mirai\n",
    "\n",
    "et_mirai_ack = pd.read_csv('/mnt/extra/2023-1_10Periodo/Poc_II/nbaiot/Ecobee_Thermostat/mirai_attacks/ack.csv', encoding = \"utf-8\", sep = ',' ) \n",
    "df_et_mirai_ack = et_mirai_ack.copy(deep=True)\n",
    "df_et_mirai_ack = pd.DataFrame(df_et_mirai_ack, columns = chosen_columns)\n",
    "\n",
    "et_mirai_scan = pd.read_csv('/mnt/extra/2023-1_10Periodo/Poc_II/nbaiot/Ecobee_Thermostat/mirai_attacks/scan.csv', encoding = \"utf-8\", sep = ',' ) \n",
    "df_et_mirai_scan = et_mirai_scan.copy(deep=True)\n",
    "df_et_mirai_scan = pd.DataFrame(df_et_mirai_scan, columns = chosen_columns)\n",
    "\n",
    "et_mirai_syn = pd.read_csv('/mnt/extra/2023-1_10Periodo/Poc_II/nbaiot/Ecobee_Thermostat/mirai_attacks/syn.csv', encoding = \"utf-8\", sep = ',' ) \n",
    "df_et_mirai_syn = et_mirai_syn.copy(deep=True)\n",
    "df_et_mirai_syn = pd.DataFrame(df_et_mirai_syn, columns = chosen_columns)\n",
    "\n",
    "et_mirai_udp = pd.read_csv('/mnt/extra/2023-1_10Periodo/Poc_II/nbaiot/Ecobee_Thermostat/mirai_attacks/udp.csv', encoding = \"utf-8\", sep = ',' ) \n",
    "df_et_mirai_udp = et_mirai_udp.copy(deep=True)\n",
    "df_et_mirai_udp = pd.DataFrame(df_et_mirai_udp, columns = chosen_columns)\n",
    "\n",
    "et_mirai_udpplain = pd.read_csv('/mnt/extra/2023-1_10Periodo/Poc_II/nbaiot/Ecobee_Thermostat/mirai_attacks/udpplain.csv', encoding = \"utf-8\", sep = ',' ) \n",
    "df_et_mirai_udpplain = et_mirai_udpplain.copy(deep=True)\n",
    "df_et_mirai_udpplain = pd.DataFrame(df_et_mirai_udpplain, columns = chosen_columns)\n",
    "\n",
    "# Bashlite\n",
    "\n",
    "et_bashlite_combo = pd.read_csv('/mnt/extra/2023-1_10Periodo/Poc_II/nbaiot/Ecobee_Thermostat/gafgyt_attacks/combo.csv', encoding = \"utf-8\", sep = ',' ) \n",
    "df_et_bashlite_combo = et_bashlite_combo.copy(deep=True)\n",
    "df_et_bashlite_combo = pd.DataFrame(df_et_bashlite_combo, columns = chosen_columns)\n",
    "\n",
    "et_bashlite_junk = pd.read_csv('/mnt/extra/2023-1_10Periodo/Poc_II/nbaiot/Ecobee_Thermostat/gafgyt_attacks/junk.csv', encoding = \"utf-8\", sep = ',' ) \n",
    "df_et_bashlite_junk = et_bashlite_junk.copy(deep=True)\n",
    "df_et_bashlite_junk = pd.DataFrame(df_et_bashlite_junk, columns = chosen_columns)\n",
    "\n",
    "et_bashlite_scan = pd.read_csv('/mnt/extra/2023-1_10Periodo/Poc_II/nbaiot/Ecobee_Thermostat/gafgyt_attacks/scan.csv', encoding = \"utf-8\", sep = ',' ) \n",
    "df_et_bashlite_scan = et_bashlite_scan.copy(deep=True)\n",
    "df_et_bashlite_scan = pd.DataFrame(df_et_bashlite_scan, columns = chosen_columns)\n",
    "\n",
    "et_bashlite_udp = pd.read_csv('/mnt/extra/2023-1_10Periodo/Poc_II/nbaiot/Ecobee_Thermostat/gafgyt_attacks/udp.csv', encoding = \"utf-8\", sep = ',' ) \n",
    "df_et_bashlite_udp = et_bashlite_udp.copy(deep=True)\n",
    "df_et_bashlite_udp = pd.DataFrame(df_et_bashlite_udp, columns = chosen_columns)\n",
    "\n",
    "et_bashlite_tcp = pd.read_csv('/mnt/extra/2023-1_10Periodo/Poc_II/nbaiot/Ecobee_Thermostat/gafgyt_attacks/tcp.csv', encoding = \"utf-8\", sep = ',' ) \n",
    "df_et_bashlite_tcp = et_bashlite_tcp.copy(deep=True)\n",
    "df_et_bashlite_tcp = pd.DataFrame(df_et_bashlite_tcp, columns = chosen_columns)"
   ]
  },
  {
   "cell_type": "code",
   "execution_count": null,
   "metadata": {
    "id": "mRK5VFkPAeJf"
   },
   "outputs": [],
   "source": [
    "df_et_benign_norm = scaler.fit_transform(df_et_benign)\n",
    "\n",
    "df_et_miraiack_norm = scaler.fit_transform(df_et_mirai_ack)\n",
    "df_et_miraiscan_norm = scaler.fit_transform(df_et_mirai_scan)\n",
    "df_et_miraisyn_norm = scaler.fit_transform(df_et_mirai_syn)\n",
    "df_et_miraiudp_norm = scaler.fit_transform(df_et_mirai_udp)\n",
    "df_et_miraiudpplain_norm = scaler.fit_transform(df_et_mirai_udpplain)\n",
    "\n",
    "df_et_bashlitecombo_norm = scaler.fit_transform(df_et_bashlite_combo)\n",
    "df_et_bashlitejunk_norm = scaler.fit_transform(df_et_bashlite_junk)\n",
    "df_et_bashlitescan_norm = scaler.fit_transform(df_et_bashlite_scan)\n",
    "df_et_bashliteudp_norm = scaler.fit_transform(df_et_bashlite_udp)\n",
    "df_et_bashlitetcp_norm = scaler.fit_transform(df_et_bashlite_tcp)"
   ]
  },
  {
   "cell_type": "markdown",
   "metadata": {
    "id": "vAXCEiPGCbR_"
   },
   "source": [
    "## 2.3 Ennio Doorbell"
   ]
  },
  {
   "cell_type": "code",
   "execution_count": null,
   "metadata": {
    "id": "v-EzDrOgCdne"
   },
   "outputs": [],
   "source": [
    "# Benign traffic\n",
    "\n",
    "ed_benign = pd.read_csv('/mnt/extra/2023-1_10Periodo/Poc_II/nbaiot/Ennio_Doorbell/benign_traffic.csv', encoding = \"utf-8\", sep = ',' ) \n",
    "df_ed_benign = ed_benign.copy(deep=True)\n",
    "df_ed_benign = pd.DataFrame(df_ed_benign, columns = chosen_columns)\n",
    "\n",
    "# Only Bashlite\n",
    "\n",
    "ed_bashlite_combo = pd.read_csv('/mnt/extra/2023-1_10Periodo/Poc_II/nbaiot/Ennio_Doorbell/gafgyt_attacks/combo.csv', encoding = \"utf-8\", sep = ',' ) \n",
    "df_ed_bashlite_combo = ed_bashlite_combo.copy(deep=True)\n",
    "df_ed_bashlite_combo = pd.DataFrame(df_ed_bashlite_combo, columns = chosen_columns)\n",
    "\n",
    "ed_bashlite_junk = pd.read_csv('/mnt/extra/2023-1_10Periodo/Poc_II/nbaiot/Ennio_Doorbell/gafgyt_attacks/junk.csv', encoding = \"utf-8\", sep = ',' ) \n",
    "df_ed_bashlite_junk = ed_bashlite_junk.copy(deep=True)\n",
    "df_ed_bashlite_junk = pd.DataFrame(df_ed_bashlite_junk, columns = chosen_columns)\n",
    "\n",
    "ed_bashlite_scan = pd.read_csv('/mnt/extra/2023-1_10Periodo/Poc_II/nbaiot/Ennio_Doorbell/gafgyt_attacks/scan.csv', encoding = \"utf-8\", sep = ',' ) \n",
    "df_ed_bashlite_scan = ed_bashlite_scan.copy(deep=True)\n",
    "df_ed_bashlite_scan = pd.DataFrame(df_ed_bashlite_scan, columns = chosen_columns)\n",
    "\n",
    "ed_bashlite_udp = pd.read_csv('/mnt/extra/2023-1_10Periodo/Poc_II/nbaiot/Ennio_Doorbell/gafgyt_attacks/udp.csv', encoding = \"utf-8\", sep = ',' ) \n",
    "df_ed_bashlite_udp = ed_bashlite_udp.copy(deep=True)\n",
    "df_ed_bashlite_udp = pd.DataFrame(df_ed_bashlite_udp, columns = chosen_columns)\n",
    "\n",
    "ed_bashlite_tcp = pd.read_csv('/mnt/extra/2023-1_10Periodo/Poc_II/nbaiot/Ennio_Doorbell/gafgyt_attacks/tcp.csv', encoding = \"utf-8\", sep = ',' ) \n",
    "df_ed_bashlite_tcp = ed_bashlite_tcp.copy(deep=True)\n",
    "df_ed_bashlite_tcp = pd.DataFrame(df_ed_bashlite_tcp, columns = chosen_columns)"
   ]
  },
  {
   "cell_type": "code",
   "execution_count": null,
   "metadata": {
    "id": "_kqfUpTZCgIJ"
   },
   "outputs": [],
   "source": [
    "df_ed_benign_norm = scaler.fit_transform(df_ed_benign)\n",
    "\n",
    "df_ed_bashlitecombo_norm = scaler.fit_transform(df_ed_bashlite_combo)\n",
    "df_ed_bashlitejunk_norm = scaler.fit_transform(df_ed_bashlite_junk)\n",
    "df_ed_bashlitescan_norm = scaler.fit_transform(df_ed_bashlite_scan)\n",
    "df_ed_bashliteudp_norm = scaler.fit_transform(df_ed_bashlite_udp)\n",
    "df_ed_bashlitetcp_norm = scaler.fit_transform(df_ed_bashlite_tcp)"
   ]
  },
  {
   "cell_type": "markdown",
   "metadata": {
    "id": "2aQx0iX0C_Ik"
   },
   "source": [
    "## 2.4 Philips Baby Monitor"
   ]
  },
  {
   "cell_type": "code",
   "execution_count": null,
   "metadata": {
    "id": "uj_VOZ-IDAdd"
   },
   "outputs": [],
   "source": [
    "# Benign traffic\n",
    "\n",
    "pb_benign = pd.read_csv('/mnt/extra/2023-1_10Periodo/Poc_II/nbaiot/Philips_B120N10_Baby_Monitor/benign_traffic.csv', encoding = \"utf-8\", sep = ',' ) \n",
    "df_pb_benign = pb_benign.copy(deep=True)\n",
    "df_pb_benign = pd.DataFrame(df_pb_benign, columns = chosen_columns)        \n",
    "        \n",
    "# Mirai\n",
    "\n",
    "pb_mirai_ack = pd.read_csv('/mnt/extra/2023-1_10Periodo/Poc_II/nbaiot/Philips_B120N10_Baby_Monitor/mirai_attacks/ack.csv', encoding = \"utf-8\", sep = ',' ) \n",
    "df_pb_mirai_ack = pb_mirai_ack.copy(deep=True)\n",
    "df_pb_mirai_ack = pd.DataFrame(df_pb_mirai_ack, columns = chosen_columns)\n",
    "\n",
    "pb_mirai_scan = pd.read_csv('/mnt/extra/2023-1_10Periodo/Poc_II/nbaiot/Philips_B120N10_Baby_Monitor/mirai_attacks/scan.csv', encoding = \"utf-8\", sep = ',' ) \n",
    "df_pb_mirai_scan = pb_mirai_scan.copy(deep=True)\n",
    "df_pb_mirai_scan = pd.DataFrame(df_pb_mirai_scan, columns = chosen_columns)\n",
    "\n",
    "pb_mirai_syn = pd.read_csv('/mnt/extra/2023-1_10Periodo/Poc_II/nbaiot/Philips_B120N10_Baby_Monitor/mirai_attacks/syn.csv', encoding = \"utf-8\", sep = ',' ) \n",
    "df_pb_mirai_syn = pb_mirai_syn.copy(deep=True)\n",
    "df_pb_mirai_syn = pd.DataFrame(df_pb_mirai_syn, columns = chosen_columns)\n",
    "\n",
    "pb_mirai_udp = pd.read_csv('/mnt/extra/2023-1_10Periodo/Poc_II/nbaiot/Philips_B120N10_Baby_Monitor/mirai_attacks/udp.csv', encoding = \"utf-8\", sep = ',' ) \n",
    "df_pb_mirai_udp = pb_mirai_udp.copy(deep=True)\n",
    "df_pb_mirai_udp = pd.DataFrame(df_pb_mirai_udp, columns = chosen_columns)\n",
    "\n",
    "pb_mirai_udpplain = pd.read_csv('/mnt/extra/2023-1_10Periodo/Poc_II/nbaiot/Philips_B120N10_Baby_Monitor/mirai_attacks/udpplain.csv', encoding = \"utf-8\", sep = ',' ) \n",
    "df_pb_mirai_udpplain = pb_mirai_udpplain.copy(deep=True)\n",
    "df_pb_mirai_udpplain = pd.DataFrame(df_pb_mirai_udpplain, columns = chosen_columns)\n",
    "\n",
    "# Bashlite\n",
    "\n",
    "pb_bashlite_combo = pd.read_csv('/mnt/extra/2023-1_10Periodo/Poc_II/nbaiot/Philips_B120N10_Baby_Monitor/gafgyt_attacks/combo.csv', encoding = \"utf-8\", sep = ',' ) \n",
    "df_pb_bashlite_combo = pb_bashlite_combo.copy(deep=True)\n",
    "df_pb_bashlite_combo = pd.DataFrame(df_pb_bashlite_combo, columns = chosen_columns)\n",
    "\n",
    "pb_bashlite_junk = pd.read_csv('/mnt/extra/2023-1_10Periodo/Poc_II/nbaiot/Philips_B120N10_Baby_Monitor/gafgyt_attacks/junk.csv', encoding = \"utf-8\", sep = ',' ) \n",
    "df_pb_bashlite_junk = pb_bashlite_junk.copy(deep=True)\n",
    "df_pb_bashlite_junk = pd.DataFrame(df_pb_bashlite_junk, columns = chosen_columns)\n",
    "\n",
    "pb_bashlite_scan = pd.read_csv('/mnt/extra/2023-1_10Periodo/Poc_II/nbaiot/Philips_B120N10_Baby_Monitor/gafgyt_attacks/scan.csv', encoding = \"utf-8\", sep = ',' ) \n",
    "df_pb_bashlite_scan = pb_bashlite_scan.copy(deep=True)\n",
    "df_pb_bashlite_scan = pd.DataFrame(df_pb_bashlite_scan, columns = chosen_columns)\n",
    "\n",
    "pb_bashlite_udp = pd.read_csv('/mnt/extra/2023-1_10Periodo/Poc_II/nbaiot/Philips_B120N10_Baby_Monitor/gafgyt_attacks/udp.csv', encoding = \"utf-8\", sep = ',' ) \n",
    "df_pb_bashlite_udp = pb_bashlite_udp.copy(deep=True)\n",
    "df_pb_bashlite_udp = pd.DataFrame(df_pb_bashlite_udp, columns = chosen_columns)\n",
    "\n",
    "pb_bashlite_tcp = pd.read_csv('/mnt/extra/2023-1_10Periodo/Poc_II/nbaiot/Philips_B120N10_Baby_Monitor/gafgyt_attacks/tcp.csv', encoding = \"utf-8\", sep = ',' ) \n",
    "df_pb_bashlite_tcp = pb_bashlite_tcp.copy(deep=True)\n",
    "df_pb_bashlite_tcp = pd.DataFrame(df_pb_bashlite_tcp, columns = chosen_columns)"
   ]
  },
  {
   "cell_type": "code",
   "execution_count": null,
   "metadata": {
    "id": "Dkm1XPe3uBXq"
   },
   "outputs": [],
   "source": [
    "df_pb_benign_norm = scaler.fit_transform(df_pb_benign)\n",
    "\n",
    "df_pb_miraiack_norm = scaler.fit_transform(df_pb_mirai_ack)\n",
    "df_pb_miraiscan_norm = scaler.fit_transform(df_pb_mirai_scan)\n",
    "df_pb_miraisyn_norm = scaler.fit_transform(df_pb_mirai_syn)\n",
    "df_pb_miraiudp_norm = scaler.fit_transform(df_pb_mirai_udp)\n",
    "df_pb_miraiudpplain_norm = scaler.fit_transform(df_pb_mirai_udpplain)\n",
    "\n",
    "df_pb_bashlitecombo_norm = scaler.fit_transform(df_pb_bashlite_combo)\n",
    "df_pb_bashlitejunk_norm = scaler.fit_transform(df_pb_bashlite_junk)\n",
    "df_pb_bashlitescan_norm = scaler.fit_transform(df_pb_bashlite_scan)\n",
    "df_pb_bashliteudp_norm = scaler.fit_transform(df_pb_bashlite_udp)\n",
    "df_pb_bashlitetcp_norm = scaler.fit_transform(df_pb_bashlite_tcp)"
   ]
  },
  {
   "cell_type": "markdown",
   "metadata": {
    "id": "bCEpmRIDEHNr"
   },
   "source": [
    "## 2.5 Security Camera"
   ]
  },
  {
   "cell_type": "code",
   "execution_count": null,
   "metadata": {
    "id": "CogjUDoMEG_n"
   },
   "outputs": [],
   "source": [
    "# Benign traffic\n",
    "\n",
    "p7_benign = pd.read_csv('/mnt/extra/2023-1_10Periodo/Poc_II/nbaiot/Provision_PT_737E_Security_Camera/benign_traffic.csv', encoding = \"utf-8\", sep = ',' ) \n",
    "df_p7_benign = p7_benign.copy(deep=True)\n",
    "df_p7_benign = pd.DataFrame(df_p7_benign, columns = chosen_columns)    \n",
    "\n",
    "# Mirai\n",
    "\n",
    "p7_mirai_ack = pd.read_csv('/mnt/extra/2023-1_10Periodo/Poc_II/nbaiot/Provision_PT_737E_Security_Camera/mirai_attacks/ack.csv', encoding = \"utf-8\", sep = ',' ) \n",
    "df_p7_mirai_ack = p7_mirai_ack.copy(deep=True)\n",
    "df_p7_mirai_ack = pd.DataFrame(df_p7_mirai_ack, columns = chosen_columns)  \n",
    "\n",
    "p7_mirai_scan = pd.read_csv('/mnt/extra/2023-1_10Periodo/Poc_II/nbaiot/Provision_PT_737E_Security_Camera/mirai_attacks/scan.csv', encoding = \"utf-8\", sep = ',' ) \n",
    "df_p7_mirai_scan = p7_mirai_scan.copy(deep=True)\n",
    "df_p7_mirai_scan = pd.DataFrame(df_p7_mirai_scan, columns = chosen_columns)\n",
    "\n",
    "p7_mirai_syn = pd.read_csv('/mnt/extra/2023-1_10Periodo/Poc_II/nbaiot/Provision_PT_737E_Security_Camera/mirai_attacks/syn.csv', encoding = \"utf-8\", sep = ',' ) \n",
    "df_p7_mirai_syn = p7_mirai_syn.copy(deep=True)\n",
    "df_p7_mirai_syn = pd.DataFrame(df_p7_mirai_syn, columns = chosen_columns)\n",
    "\n",
    "p7_mirai_udp = pd.read_csv('/mnt/extra/2023-1_10Periodo/Poc_II/nbaiot/Provision_PT_737E_Security_Camera/mirai_attacks/udp.csv', encoding = \"utf-8\", sep = ',' ) \n",
    "df_p7_mirai_udp = p7_mirai_udp.copy(deep=True)\n",
    "df_p7_mirai_udp = pd.DataFrame(df_p7_mirai_udp, columns = chosen_columns)\n",
    "\n",
    "p7_mirai_udpplain = pd.read_csv('/mnt/extra/2023-1_10Periodo/Poc_II/nbaiot/Provision_PT_737E_Security_Camera/mirai_attacks/udpplain.csv', encoding = \"utf-8\", sep = ',' ) \n",
    "df_p7_mirai_udpplain = p7_mirai_udpplain.copy(deep=True)\n",
    "df_p7_mirai_udpplain = pd.DataFrame(df_p7_mirai_udpplain, columns = chosen_columns)\n",
    "\n",
    "# Bashlite\n",
    "\n",
    "p7_bashlite_combo = pd.read_csv('/mnt/extra/2023-1_10Periodo/Poc_II/nbaiot/Provision_PT_737E_Security_Camera/gafgyt_attacks/combo.csv', encoding = \"utf-8\", sep = ',' ) \n",
    "df_p7_bashlite_combo = p7_bashlite_combo.copy(deep=True)\n",
    "df_p7_bashlite_combo = pd.DataFrame(df_p7_bashlite_combo, columns = chosen_columns)\n",
    "\n",
    "p7_bashlite_junk = pd.read_csv('/mnt/extra/2023-1_10Periodo/Poc_II/nbaiot/Provision_PT_737E_Security_Camera/gafgyt_attacks/junk.csv', encoding = \"utf-8\", sep = ',' ) \n",
    "df_p7_bashlite_junk = p7_bashlite_junk.copy(deep=True)\n",
    "df_p7_bashlite_junk = pd.DataFrame(df_p7_bashlite_junk, columns = chosen_columns)\n",
    "\n",
    "p7_bashlite_scan = pd.read_csv('/mnt/extra/2023-1_10Periodo/Poc_II/nbaiot/Provision_PT_737E_Security_Camera/gafgyt_attacks/scan.csv', encoding = \"utf-8\", sep = ',' ) \n",
    "df_p7_bashlite_scan = p7_bashlite_scan.copy(deep=True)\n",
    "df_p7_bashlite_scan = pd.DataFrame(df_p7_bashlite_scan, columns = chosen_columns)\n",
    "\n",
    "p7_bashlite_udp = pd.read_csv('/mnt/extra/2023-1_10Periodo/Poc_II/nbaiot/Provision_PT_737E_Security_Camera/gafgyt_attacks/udp.csv', encoding = \"utf-8\", sep = ',' ) \n",
    "df_p7_bashlite_udp = p7_bashlite_udp.copy(deep=True)\n",
    "df_p7_bashlite_udp = pd.DataFrame(df_p7_bashlite_udp, columns = chosen_columns)\n",
    "\n",
    "p7_bashlite_tcp = pd.read_csv('/mnt/extra/2023-1_10Periodo/Poc_II/nbaiot/Provision_PT_737E_Security_Camera/gafgyt_attacks/tcp.csv', encoding = \"utf-8\", sep = ',' ) \n",
    "df_p7_bashlite_tcp = p7_bashlite_tcp.copy(deep=True)\n",
    "df_p7_bashlite_tcp = pd.DataFrame(df_p7_bashlite_tcp, columns = chosen_columns)"
   ]
  },
  {
   "cell_type": "code",
   "execution_count": null,
   "metadata": {
    "id": "FQw3qeddELWy"
   },
   "outputs": [],
   "source": [
    "df_p7_benign_norm = scaler.fit_transform(df_p7_benign)\n",
    "\n",
    "df_p7_miraiack_norm = scaler.fit_transform(df_p7_mirai_ack)\n",
    "df_p7_miraiscan_norm = scaler.fit_transform(df_p7_mirai_scan)\n",
    "df_p7_miraisyn_norm = scaler.fit_transform(df_p7_mirai_syn)\n",
    "df_p7_miraiudp_norm = scaler.fit_transform(df_p7_mirai_udp)\n",
    "df_p7_miraiudpplain_norm = scaler.fit_transform(df_p7_mirai_udpplain)\n",
    "\n",
    "df_p7_bashlitecombo_norm = scaler.fit_transform(df_p7_bashlite_combo)\n",
    "df_p7_bashlitejunk_norm = scaler.fit_transform(df_p7_bashlite_junk)\n",
    "df_p7_bashlitescan_norm = scaler.fit_transform(df_p7_bashlite_scan)\n",
    "df_p7_bashliteudp_norm = scaler.fit_transform(df_p7_bashlite_udp)\n",
    "df_p7_bashlitetcp_norm = scaler.fit_transform(df_p7_bashlite_tcp)"
   ]
  },
  {
   "cell_type": "markdown",
   "metadata": {
    "id": "jiTqAhSVEbMW"
   },
   "source": [
    "## 2.6 Security Camera"
   ]
  },
  {
   "cell_type": "code",
   "execution_count": null,
   "metadata": {
    "id": "btdZfxCjEbdB"
   },
   "outputs": [],
   "source": [
    "# Benign traffic\n",
    "\n",
    "p8_benign = pd.read_csv('/mnt/extra/2023-1_10Periodo/Poc_II/nbaiot/Provision_PT_838_Security_Camera/benign_traffic.csv', encoding = \"utf-8\", sep = ',' ) \n",
    "df_p8_benign = p8_benign.copy(deep=True)\n",
    "df_p8_benign = pd.DataFrame(df_p8_benign, columns = chosen_columns)  \n",
    "\n",
    "# Mirai\n",
    "\n",
    "p8_mirai_ack = pd.read_csv('/mnt/extra/2023-1_10Periodo/Poc_II/nbaiot/Provision_PT_838_Security_Camera/mirai_attacks/ack.csv', encoding = \"utf-8\", sep = ',' ) \n",
    "df_p8_mirai_ack = p8_mirai_ack.copy(deep=True)\n",
    "df_p8_mirai_ack = pd.DataFrame(df_p8_mirai_ack, columns = chosen_columns) \n",
    "\n",
    "p8_mirai_scan = pd.read_csv('/mnt/extra/2023-1_10Periodo/Poc_II/nbaiot/Provision_PT_838_Security_Camera/mirai_attacks/scan.csv', encoding = \"utf-8\", sep = ',' ) \n",
    "df_p8_mirai_scan = p8_mirai_scan.copy(deep=True)\n",
    "df_p8_mirai_scan = pd.DataFrame(df_p8_mirai_scan, columns = chosen_columns) \n",
    "\n",
    "p8_mirai_syn = pd.read_csv('/mnt/extra/2023-1_10Periodo/Poc_II/nbaiot/Provision_PT_838_Security_Camera/mirai_attacks/syn.csv', encoding = \"utf-8\", sep = ',' ) \n",
    "df_p8_mirai_syn = p8_mirai_syn.copy(deep=True)\n",
    "df_p8_mirai_syn = pd.DataFrame(df_p8_mirai_syn, columns = chosen_columns) \n",
    "\n",
    "p8_mirai_udp = pd.read_csv('/mnt/extra/2023-1_10Periodo/Poc_II/nbaiot/Provision_PT_838_Security_Camera/mirai_attacks/udp.csv', encoding = \"utf-8\", sep = ',' ) \n",
    "df_p8_mirai_udp = p8_mirai_udp.copy(deep=True)\n",
    "df_p8_mirai_udp = pd.DataFrame(df_p8_mirai_udp, columns = chosen_columns) \n",
    "\n",
    "p8_mirai_udpplain = pd.read_csv('/mnt/extra/2023-1_10Periodo/Poc_II/nbaiot/Provision_PT_838_Security_Camera/mirai_attacks/udpplain.csv', encoding = \"utf-8\", sep = ',' ) \n",
    "df_p8_mirai_udpplain = p8_mirai_udpplain.copy(deep=True)\n",
    "df_p8_mirai_udpplain = pd.DataFrame(df_p8_mirai_udpplain, columns = chosen_columns) \n",
    "\n",
    "# Bashlite\n",
    "\n",
    "p8_bashlite_combo = pd.read_csv('/mnt/extra/2023-1_10Periodo/Poc_II/nbaiot/Provision_PT_838_Security_Camera/gafgyt_attacks/combo.csv', encoding = \"utf-8\", sep = ',' ) \n",
    "df_p8_bashlite_combo = p8_bashlite_combo.copy(deep=True)\n",
    "df_p8_bashlite_combo = pd.DataFrame(df_p8_bashlite_combo, columns = chosen_columns) \n",
    "\n",
    "p8_bashlite_junk = pd.read_csv('/mnt/extra/2023-1_10Periodo/Poc_II/nbaiot/Provision_PT_838_Security_Camera/gafgyt_attacks/junk.csv', encoding = \"utf-8\", sep = ',' ) \n",
    "df_p8_bashlite_junk = p8_bashlite_junk.copy(deep=True)\n",
    "df_p8_bashlite_junk = pd.DataFrame(df_p8_bashlite_junk, columns = chosen_columns)\n",
    "\n",
    "p8_bashlite_scan = pd.read_csv('/mnt/extra/2023-1_10Periodo/Poc_II/nbaiot/Provision_PT_838_Security_Camera/gafgyt_attacks/scan.csv', encoding = \"utf-8\", sep = ',' ) \n",
    "df_p8_bashlite_scan = p8_bashlite_scan.copy(deep=True)\n",
    "df_p8_bashlite_scan = pd.DataFrame(df_p8_bashlite_scan, columns = chosen_columns)\n",
    "\n",
    "p8_bashlite_udp = pd.read_csv('/mnt/extra/2023-1_10Periodo/Poc_II/nbaiot/Provision_PT_838_Security_Camera/gafgyt_attacks/udp.csv', encoding = \"utf-8\", sep = ',' ) \n",
    "df_p8_bashlite_udp = p8_bashlite_udp.copy(deep=True)\n",
    "df_p8_bashlite_udp = pd.DataFrame(df_p8_bashlite_udp, columns = chosen_columns)\n",
    "\n",
    "p8_bashlite_tcp = pd.read_csv('/mnt/extra/2023-1_10Periodo/Poc_II/nbaiot/Provision_PT_838_Security_Camera/gafgyt_attacks/tcp.csv', encoding = \"utf-8\", sep = ',' ) \n",
    "df_p8_bashlite_tcp = p8_bashlite_tcp.copy(deep=True)\n",
    "df_p8_bashlite_tcp = pd.DataFrame(df_p8_bashlite_tcp, columns = chosen_columns)"
   ]
  },
  {
   "cell_type": "code",
   "execution_count": null,
   "metadata": {
    "id": "dEYfJtuAEbar"
   },
   "outputs": [],
   "source": [
    "df_p8_benign_norm = scaler.fit_transform(df_p8_benign)\n",
    "\n",
    "df_p8_miraiack_norm = scaler.fit_transform(df_p8_mirai_ack)\n",
    "df_p8_miraiscan_norm = scaler.fit_transform(df_p8_mirai_scan)\n",
    "df_p8_miraisyn_norm = scaler.fit_transform(df_p8_mirai_syn)\n",
    "df_p8_miraiudp_norm = scaler.fit_transform(df_p8_mirai_udp)\n",
    "df_p8_miraiudpplain_norm = scaler.fit_transform(df_p8_mirai_udpplain)\n",
    "\n",
    "df_p8_bashlitecombo_norm = scaler.fit_transform(df_p8_bashlite_combo)\n",
    "df_p8_bashlitejunk_norm = scaler.fit_transform(df_p8_bashlite_junk)\n",
    "df_p8_bashlitescan_norm = scaler.fit_transform(df_p8_bashlite_scan)\n",
    "df_p8_bashliteudp_norm = scaler.fit_transform(df_p8_bashlite_udp)\n",
    "df_p8_bashlitetcp_norm = scaler.fit_transform(df_p8_bashlite_tcp)"
   ]
  },
  {
   "cell_type": "markdown",
   "metadata": {
    "id": "kwdaI9n6EsW0"
   },
   "source": [
    "## 2.7 Security Camera"
   ]
  },
  {
   "cell_type": "code",
   "execution_count": null,
   "metadata": {
    "id": "pLyaq8j6Essb"
   },
   "outputs": [],
   "source": [
    "# Benign traffic\n",
    "\n",
    "s2_benign = pd.read_csv('/mnt/extra/2023-1_10Periodo/Poc_II/nbaiot/SimpleHome_XCS7_1002_WHT_Security_Camera/benign_traffic.csv', encoding = \"utf-8\", sep = ',' ) \n",
    "df_s2_benign = s2_benign.copy(deep=True)\n",
    "df_s2_benign = pd.DataFrame(df_s2_benign, columns = chosen_columns)  \n",
    "\n",
    "# Mirai\n",
    "\n",
    "s2_mirai_ack = pd.read_csv('/mnt/extra/2023-1_10Periodo/Poc_II/nbaiot/SimpleHome_XCS7_1002_WHT_Security_Camera/mirai_attacks/ack.csv', encoding = \"utf-8\", sep = ',' ) \n",
    "df_s2_mirai_ack = s2_mirai_ack.copy(deep=True)\n",
    "df_s2_mirai_ack = pd.DataFrame(df_s2_mirai_ack, columns = chosen_columns)\n",
    "\n",
    "s2_mirai_scan = pd.read_csv('/mnt/extra/2023-1_10Periodo/Poc_II/nbaiot/SimpleHome_XCS7_1002_WHT_Security_Camera/mirai_attacks/scan.csv', encoding = \"utf-8\", sep = ',' ) \n",
    "df_s2_mirai_scan = s2_mirai_scan.copy(deep=True)\n",
    "df_s2_mirai_scan = pd.DataFrame(df_s2_mirai_scan, columns = chosen_columns)\n",
    "\n",
    "s2_mirai_syn = pd.read_csv('/mnt/extra/2023-1_10Periodo/Poc_II/nbaiot/SimpleHome_XCS7_1002_WHT_Security_Camera/mirai_attacks/syn.csv', encoding = \"utf-8\", sep = ',' ) \n",
    "df_s2_mirai_syn = s2_mirai_syn.copy(deep=True)\n",
    "df_s2_mirai_syn = pd.DataFrame(df_s2_mirai_syn, columns = chosen_columns)\n",
    "\n",
    "s2_mirai_udp = pd.read_csv('/mnt/extra/2023-1_10Periodo/Poc_II/nbaiot/SimpleHome_XCS7_1002_WHT_Security_Camera/mirai_attacks/udp.csv', encoding = \"utf-8\", sep = ',' ) \n",
    "df_s2_mirai_udp = s2_mirai_udp.copy(deep=True)\n",
    "df_s2_mirai_udp = pd.DataFrame(df_s2_mirai_udp, columns = chosen_columns)\n",
    "\n",
    "s2_mirai_udpplain = pd.read_csv('/mnt/extra/2023-1_10Periodo/Poc_II/nbaiot/SimpleHome_XCS7_1002_WHT_Security_Camera/mirai_attacks/udpplain.csv', encoding = \"utf-8\", sep = ',' ) \n",
    "df_s2_mirai_udpplain = s2_mirai_udpplain.copy(deep=True)\n",
    "df_s2_mirai_udpplain = pd.DataFrame(df_s2_mirai_udpplain, columns = chosen_columns)\n",
    "\n",
    "# Bashlite\n",
    "\n",
    "s2_bashlite_combo = pd.read_csv('/mnt/extra/2023-1_10Periodo/Poc_II/nbaiot/SimpleHome_XCS7_1002_WHT_Security_Camera/gafgyt_attacks/combo.csv', encoding = \"utf-8\", sep = ',' ) \n",
    "df_s2_bashlite_combo = s2_bashlite_combo.copy(deep=True)\n",
    "df_s2_bashlite_combo = pd.DataFrame(df_s2_bashlite_combo, columns = chosen_columns)\n",
    "\n",
    "s2_bashlite_junk = pd.read_csv('/mnt/extra/2023-1_10Periodo/Poc_II/nbaiot/SimpleHome_XCS7_1002_WHT_Security_Camera/gafgyt_attacks/junk.csv', encoding = \"utf-8\", sep = ',' ) \n",
    "df_s2_bashlite_junk = s2_bashlite_junk.copy(deep=True)\n",
    "df_s2_bashlite_junk = pd.DataFrame(df_s2_bashlite_junk, columns = chosen_columns)\n",
    "\n",
    "s2_bashlite_scan = pd.read_csv('/mnt/extra/2023-1_10Periodo/Poc_II/nbaiot/SimpleHome_XCS7_1002_WHT_Security_Camera/gafgyt_attacks/scan.csv', encoding = \"utf-8\", sep = ',' ) \n",
    "df_s2_bashlite_scan = s2_bashlite_scan.copy(deep=True)\n",
    "df_s2_bashlite_scan = pd.DataFrame(df_s2_bashlite_scan, columns = chosen_columns)\n",
    "\n",
    "s2_bashlite_udp = pd.read_csv('/mnt/extra/2023-1_10Periodo/Poc_II/nbaiot/SimpleHome_XCS7_1002_WHT_Security_Camera/gafgyt_attacks/udp.csv', encoding = \"utf-8\", sep = ',' ) \n",
    "df_s2_bashlite_udp = s2_bashlite_udp.copy(deep=True)\n",
    "df_s2_bashlite_udp = pd.DataFrame(df_s2_bashlite_udp, columns = chosen_columns)\n",
    "\n",
    "s2_bashlite_tcp = pd.read_csv('/mnt/extra/2023-1_10Periodo/Poc_II/nbaiot/SimpleHome_XCS7_1002_WHT_Security_Camera/gafgyt_attacks/tcp.csv', encoding = \"utf-8\", sep = ',' ) \n",
    "df_s2_bashlite_tcp = s2_bashlite_tcp.copy(deep=True)\n",
    "df_s2_bashlite_tcp = pd.DataFrame(df_s2_bashlite_tcp, columns = chosen_columns)"
   ]
  },
  {
   "cell_type": "code",
   "execution_count": null,
   "metadata": {
    "id": "rfZlJjPnEtHx"
   },
   "outputs": [],
   "source": [
    "df_s2_benign_norm = scaler.fit_transform(df_s2_benign)\n",
    "\n",
    "df_s2_miraiack_norm = scaler.fit_transform(df_s2_mirai_ack)\n",
    "df_s2_miraiscan_norm = scaler.fit_transform(df_s2_mirai_scan)\n",
    "df_s2_miraisyn_norm = scaler.fit_transform(df_s2_mirai_syn)\n",
    "df_s2_miraiudp_norm = scaler.fit_transform(df_s2_mirai_udp)\n",
    "df_s2_miraiudpplain_norm = scaler.fit_transform(df_s2_mirai_udpplain)\n",
    "\n",
    "df_s2_bashlitecombo_norm = scaler.fit_transform(df_s2_bashlite_combo)\n",
    "df_s2_bashlitejunk_norm = scaler.fit_transform(df_s2_bashlite_junk)\n",
    "df_s2_bashlitescan_norm = scaler.fit_transform(df_s2_bashlite_scan)\n",
    "df_s2_bashliteudp_norm = scaler.fit_transform(df_s2_bashlite_udp)\n",
    "df_s2_bashlitetcp_norm = scaler.fit_transform(df_s2_bashlite_tcp)"
   ]
  },
  {
   "cell_type": "markdown",
   "metadata": {
    "id": "cjix8YdaE95O"
   },
   "source": [
    "## 2.8 Security Camera"
   ]
  },
  {
   "cell_type": "code",
   "execution_count": null,
   "metadata": {
    "id": "0d5xJSZ7E9d4"
   },
   "outputs": [],
   "source": [
    "# Benign traffic\n",
    "\n",
    "s3_benign = pd.read_csv('/mnt/extra/2023-1_10Periodo/Poc_II/nbaiot/SimpleHome_XCS7_1003_WHT_Security_Camera/benign_traffic.csv', encoding = \"utf-8\", sep = ',' ) \n",
    "df_s3_benign = s3_benign.copy(deep=True)\n",
    "df_s3_benign = pd.DataFrame(df_s3_benign, columns = chosen_columns)\n",
    "\n",
    "# Mirai\n",
    "\n",
    "s3_mirai_ack = pd.read_csv('/mnt/extra/2023-1_10Periodo/Poc_II/nbaiot/SimpleHome_XCS7_1003_WHT_Security_Camera/mirai_attacks/ack.csv', encoding = \"utf-8\", sep = ',' ) \n",
    "df_s3_mirai_ack = s3_mirai_ack.copy(deep=True)\n",
    "df_s3_mirai_ack = pd.DataFrame(df_s3_mirai_ack, columns = chosen_columns)\n",
    "\n",
    "s3_mirai_scan = pd.read_csv('/mnt/extra/2023-1_10Periodo/Poc_II/nbaiot/SimpleHome_XCS7_1003_WHT_Security_Camera/mirai_attacks/scan.csv', encoding = \"utf-8\", sep = ',' ) \n",
    "df_s3_mirai_scan = s3_mirai_scan.copy(deep=True)\n",
    "df_s3_mirai_scan = pd.DataFrame(df_s3_mirai_scan, columns = chosen_columns)\n",
    "\n",
    "s3_mirai_syn = pd.read_csv('/mnt/extra/2023-1_10Periodo/Poc_II/nbaiot/SimpleHome_XCS7_1003_WHT_Security_Camera/mirai_attacks/syn.csv', encoding = \"utf-8\", sep = ',' ) \n",
    "df_s3_mirai_syn = s3_mirai_syn.copy(deep=True)\n",
    "df_s3_mirai_syn = pd.DataFrame(df_s3_mirai_syn, columns = chosen_columns)\n",
    "\n",
    "s3_mirai_udp = pd.read_csv('/mnt/extra/2023-1_10Periodo/Poc_II/nbaiot/SimpleHome_XCS7_1003_WHT_Security_Camera/mirai_attacks/udp.csv', encoding = \"utf-8\", sep = ',' ) \n",
    "df_s3_mirai_udp = s3_mirai_udp.copy(deep=True)\n",
    "df_s3_mirai_udp = pd.DataFrame(df_s3_mirai_udp, columns = chosen_columns)\n",
    "\n",
    "s3_mirai_udpplain = pd.read_csv('/mnt/extra/2023-1_10Periodo/Poc_II/nbaiot/SimpleHome_XCS7_1003_WHT_Security_Camera/mirai_attacks/udpplain.csv', encoding = \"utf-8\", sep = ',' ) \n",
    "df_s3_mirai_udpplain = s3_mirai_udpplain.copy(deep=True)\n",
    "df_s3_mirai_udpplain = pd.DataFrame(df_s3_mirai_udpplain, columns = chosen_columns)\n",
    "\n",
    "# Bashlite\n",
    "\n",
    "s3_bashlite_combo = pd.read_csv('/mnt/extra/2023-1_10Periodo/Poc_II/nbaiot/SimpleHome_XCS7_1003_WHT_Security_Camera/gafgyt_attacks/combo.csv', encoding = \"utf-8\", sep = ',' ) \n",
    "df_s3_bashlite_combo = s3_bashlite_combo.copy(deep=True)\n",
    "df_s3_bashlite_combo = pd.DataFrame(df_s3_bashlite_combo, columns = chosen_columns)\n",
    "\n",
    "s3_bashlite_junk = pd.read_csv('/mnt/extra/2023-1_10Periodo/Poc_II/nbaiot/SimpleHome_XCS7_1003_WHT_Security_Camera/gafgyt_attacks/junk.csv', encoding = \"utf-8\", sep = ',' ) \n",
    "df_s3_bashlite_junk = s3_bashlite_junk.copy(deep=True)\n",
    "df_s3_bashlite_junk = pd.DataFrame(df_s3_bashlite_junk, columns = chosen_columns)\n",
    "\n",
    "s3_bashlite_scan = pd.read_csv('/mnt/extra/2023-1_10Periodo/Poc_II/nbaiot/SimpleHome_XCS7_1003_WHT_Security_Camera/gafgyt_attacks/scan.csv', encoding = \"utf-8\", sep = ',' ) \n",
    "df_s3_bashlite_scan = s3_bashlite_scan.copy(deep=True)\n",
    "df_s3_bashlite_scan = pd.DataFrame(df_s3_bashlite_scan, columns = chosen_columns)\n",
    "\n",
    "s3_bashlite_udp = pd.read_csv('/mnt/extra/2023-1_10Periodo/Poc_II/nbaiot/SimpleHome_XCS7_1003_WHT_Security_Camera/gafgyt_attacks/udp.csv', encoding = \"utf-8\", sep = ',' ) \n",
    "df_s3_bashlite_udp = s3_bashlite_udp.copy(deep=True)\n",
    "df_s3_bashlite_udp = pd.DataFrame(df_s3_bashlite_udp, columns = chosen_columns)\n",
    "\n",
    "s3_bashlite_tcp = pd.read_csv('/mnt/extra/2023-1_10Periodo/Poc_II/nbaiot/SimpleHome_XCS7_1003_WHT_Security_Camera/gafgyt_attacks/tcp.csv', encoding = \"utf-8\", sep = ',' ) \n",
    "df_s3_bashlite_tcp = s3_bashlite_tcp.copy(deep=True)\n",
    "df_s3_bashlite_tcp = pd.DataFrame(df_s3_bashlite_tcp, columns = chosen_columns)"
   ]
  },
  {
   "cell_type": "code",
   "execution_count": null,
   "metadata": {
    "id": "Ht4Sg3NyFSFt"
   },
   "outputs": [],
   "source": [
    "df_s3_benign_norm = scaler.fit_transform(df_s3_benign)\n",
    "\n",
    "df_s3_miraiack_norm = scaler.fit_transform(df_s3_mirai_ack)\n",
    "df_s3_miraiscan_norm = scaler.fit_transform(df_s3_mirai_scan)\n",
    "df_s3_miraisyn_norm = scaler.fit_transform(df_s3_mirai_syn)\n",
    "df_s3_miraiudp_norm = scaler.fit_transform(df_s3_mirai_udp)\n",
    "df_s3_miraiudpplain_norm = scaler.fit_transform(df_s3_mirai_udpplain)\n",
    "\n",
    "df_s3_bashlitecombo_norm = scaler.fit_transform(df_s3_bashlite_combo)\n",
    "df_s3_bashlitejunk_norm = scaler.fit_transform(df_s3_bashlite_junk)\n",
    "df_s3_bashlitescan_norm = scaler.fit_transform(df_s3_bashlite_scan)\n",
    "df_s3_bashliteudp_norm = scaler.fit_transform(df_s3_bashlite_udp)\n",
    "df_s3_bashlitetcp_norm = scaler.fit_transform(df_s3_bashlite_tcp)"
   ]
  },
  {
   "cell_type": "markdown",
   "metadata": {
    "id": "v5iAtdvkE91E"
   },
   "source": [
    "## 2.9 Samsung Webcam"
   ]
  },
  {
   "cell_type": "code",
   "execution_count": null,
   "metadata": {
    "id": "fkJpQ4biFT9P"
   },
   "outputs": [],
   "source": [
    "# Benign traffic\n",
    "\n",
    "sw_benign = pd.read_csv('/mnt/extra/2023-1_10Periodo/Poc_II/nbaiot/Samsung_SNH_1011_N_Webcam/benign_traffic.csv', encoding = \"utf-8\", sep = ',' ) \n",
    "df_sw_benign = sw_benign.copy(deep=True)\n",
    "df_sw_benign = pd.DataFrame(df_sw_benign, columns = chosen_columns)\n",
    "\n",
    "# Bashlite Only\n",
    "\n",
    "sw_bashlite_combo = pd.read_csv('/mnt/extra/2023-1_10Periodo/Poc_II/nbaiot/Samsung_SNH_1011_N_Webcam/gafgyt_attacks/combo.csv', encoding = \"utf-8\", sep = ',' ) \n",
    "df_sw_bashlite_combo = sw_bashlite_combo.copy(deep=True)\n",
    "df_sw_bashlite_combo = pd.DataFrame(df_sw_bashlite_combo, columns = chosen_columns)\n",
    "\n",
    "sw_bashlite_junk = pd.read_csv('/mnt/extra/2023-1_10Periodo/Poc_II/nbaiot/Samsung_SNH_1011_N_Webcam/gafgyt_attacks/junk.csv', encoding = \"utf-8\", sep = ',' ) \n",
    "df_sw_bashlite_junk = sw_bashlite_junk.copy(deep=True)\n",
    "df_sw_bashlite_junk = pd.DataFrame(df_sw_bashlite_junk, columns = chosen_columns)\n",
    "\n",
    "sw_bashlite_scan = pd.read_csv('/mnt/extra/2023-1_10Periodo/Poc_II/nbaiot/Samsung_SNH_1011_N_Webcam/gafgyt_attacks/scan.csv', encoding = \"utf-8\", sep = ',' ) \n",
    "df_sw_bashlite_scan = sw_bashlite_scan.copy(deep=True)\n",
    "df_sw_bashlite_scan = pd.DataFrame(df_sw_bashlite_scan, columns = chosen_columns)\n",
    "\n",
    "sw_bashlite_udp = pd.read_csv('/mnt/extra/2023-1_10Periodo/Poc_II/nbaiot/Samsung_SNH_1011_N_Webcam/gafgyt_attacks/udp.csv', encoding = \"utf-8\", sep = ',' ) \n",
    "df_sw_bashlite_udp = sw_bashlite_udp.copy(deep=True)\n",
    "df_sw_bashlite_udp = pd.DataFrame(df_sw_bashlite_udp, columns = chosen_columns)\n",
    "\n",
    "sw_bashlite_tcp = pd.read_csv('/mnt/extra/2023-1_10Periodo/Poc_II/nbaiot/Samsung_SNH_1011_N_Webcam/gafgyt_attacks/tcp.csv', encoding = \"utf-8\", sep = ',' ) \n",
    "df_sw_bashlite_tcp = sw_bashlite_tcp.copy(deep=True)\n",
    "df_sw_bashlite_tcp = pd.DataFrame(df_sw_bashlite_tcp, columns = chosen_columns)"
   ]
  },
  {
   "cell_type": "code",
   "execution_count": null,
   "metadata": {
    "id": "yaWv2rj6FTtW"
   },
   "outputs": [],
   "source": [
    "df_sw_benign_norm = scaler.fit_transform(df_sw_benign)\n",
    "\n",
    "df_sw_bashlitecombo_norm = scaler.fit_transform(df_sw_bashlite_combo)\n",
    "df_sw_bashlitejunk_norm = scaler.fit_transform(df_sw_bashlite_junk)\n",
    "df_sw_bashlitescan_norm = scaler.fit_transform(df_sw_bashlite_scan)\n",
    "df_sw_bashliteudp_norm = scaler.fit_transform(df_sw_bashlite_udp)\n",
    "df_sw_bashlitetcp_norm = scaler.fit_transform(df_sw_bashlite_tcp)"
   ]
  },
  {
   "cell_type": "markdown",
   "metadata": {
    "id": "tPiRIxOVFlm8"
   },
   "source": [
    "# 3. VQ VAE - Attack Detection"
   ]
  },
  {
   "cell_type": "markdown",
   "metadata": {
    "id": "LNh5918tGctl"
   },
   "source": [
    "## 3.1 Model"
   ]
  },
  {
   "cell_type": "code",
   "execution_count": null,
   "metadata": {
    "id": "j4uxd8lPFjXt"
   },
   "outputs": [],
   "source": [
    "# Train set\n",
    "len_dd_benign_train = int(0.7 * len(df_dd_benign_norm))\n",
    "X_train_dd_benign = df_dd_benign_norm[:len_dd_benign_train]\n",
    "\n",
    "len_et_benign_train = int(0.7 * len(df_et_benign_norm))\n",
    "X_train_et_benign = df_et_benign_norm[:len_et_benign_train]\n",
    "\n",
    "len_ed_benign_train = int(0.7 * len(df_ed_benign_norm))\n",
    "X_train_ed_benign = df_ed_benign_norm[:len_ed_benign_train]\n",
    "\n",
    "len_pb_benign_train = int(0.7 * len(df_pb_benign_norm))\n",
    "X_train_pb_benign = df_pb_benign_norm[:len_pb_benign_train]\n",
    "\n",
    "len_p7_benign_train = int(0.7 * len(df_p7_benign_norm))\n",
    "X_train_p7_benign = df_p7_benign_norm[:len_p7_benign_train]\n",
    "\n",
    "len_p8_benign_train = int(0.7 * len(df_p8_benign_norm))\n",
    "X_train_p8_benign = df_p8_benign_norm[:len_p8_benign_train]\n",
    "\n",
    "len_s2_benign_train = int(0.7 * len(df_s2_benign_norm))\n",
    "X_train_s2_benign = df_s2_benign_norm[:len_s2_benign_train]\n",
    "\n",
    "len_s3_benign_train = int(0.7 * len(df_s3_benign_norm))\n",
    "X_train_s3_benign = df_s3_benign_norm[:len_s3_benign_train]\n",
    "\n",
    "len_sw_benign_train = int(0.7 * len(df_sw_benign_norm))\n",
    "X_train_sw_benign = df_sw_benign_norm[:len_sw_benign_train]\n",
    "\n",
    "X_train_AE = np.concatenate([X_train_dd_benign, X_train_et_benign, X_train_ed_benign, X_train_pb_benign, X_train_p7_benign, \n",
    "                              X_train_p8_benign, X_train_s2_benign, X_train_s3_benign])\n",
    "\n",
    "# Test set - 30% benign and the rest is attack\n",
    "X_test_dd_benign = df_dd_benign_norm[len_dd_benign_train:]\n",
    "X_test_et_benign = df_et_benign_norm[len_et_benign_train:]\n",
    "X_test_ed_benign = df_ed_benign_norm[len_ed_benign_train:]\n",
    "X_test_pb_benign = df_pb_benign_norm[len_pb_benign_train:]\n",
    "X_test_p7_benign = df_p7_benign_norm[len_p7_benign_train:]\n",
    "X_test_p8_benign = df_p8_benign_norm[len_p8_benign_train:]\n",
    "X_test_s2_benign = df_s2_benign_norm[len_s2_benign_train:]\n",
    "X_test_s3_benign = df_s3_benign_norm[len_s3_benign_train:]\n",
    "X_test_sw_benign = df_sw_benign_norm[len_sw_benign_train:]\n",
    "\n",
    "X_test_benign = np.concatenate([X_test_dd_benign, X_test_et_benign, X_test_ed_benign, X_test_pb_benign, X_test_p7_benign, \n",
    "                                X_test_p8_benign, X_test_s2_benign, X_test_s3_benign, X_test_sw_benign])\n",
    "\n",
    "# 30% benign + attacks\n",
    "X_test_AE = np.concatenate([X_test_benign,\n",
    "                             df_dd_miraiack_norm, df_dd_miraiscan_norm, df_dd_miraisyn_norm, df_dd_miraiudp_norm, df_dd_miraiudpplain_norm,\n",
    "                             df_dd_bashlitecombo_norm, df_dd_bashlitejunk_norm, df_dd_bashlitescan_norm, df_dd_bashliteudp_norm, df_dd_bashlitetcp_norm,\n",
    "                             df_et_miraiack_norm, df_et_miraiscan_norm, df_et_miraisyn_norm, df_et_miraiudp_norm, df_et_miraiudpplain_norm,\n",
    "                             df_et_bashlitecombo_norm, df_et_bashlitejunk_norm, df_et_bashlitescan_norm, df_et_bashliteudp_norm, df_et_bashlitetcp_norm,\n",
    "                             df_ed_bashlitecombo_norm, df_ed_bashlitejunk_norm, df_ed_bashlitescan_norm, df_ed_bashliteudp_norm, df_ed_bashlitetcp_norm,\n",
    "                             df_pb_miraiack_norm, df_pb_miraiscan_norm, df_pb_miraisyn_norm, df_pb_miraiudp_norm, df_pb_miraiudpplain_norm,\n",
    "                             df_pb_bashlitecombo_norm, df_pb_bashlitejunk_norm, df_pb_bashlitescan_norm, df_pb_bashliteudp_norm, df_pb_bashlitetcp_norm,\n",
    "                             df_p7_miraiack_norm, df_p7_miraiscan_norm, df_p7_miraisyn_norm, df_p7_miraiudp_norm, df_p7_miraiudpplain_norm,\n",
    "                             df_p7_bashlitecombo_norm, df_p7_bashlitejunk_norm, df_p7_bashlitescan_norm, df_p7_bashliteudp_norm, df_p7_bashlitetcp_norm,\n",
    "                             df_p8_miraiack_norm, df_p8_miraiscan_norm, df_p8_miraisyn_norm, df_p8_miraiudp_norm, df_p8_miraiudpplain_norm,\n",
    "                             df_p8_bashlitecombo_norm, df_p8_bashlitejunk_norm, df_p8_bashlitescan_norm, df_p8_bashliteudp_norm, df_p8_bashlitetcp_norm,\n",
    "                             df_s2_miraiack_norm, df_s2_miraiscan_norm, df_s2_miraisyn_norm, df_s2_miraiudp_norm, df_s2_miraiudpplain_norm,\n",
    "                             df_s2_bashlitecombo_norm, df_s2_bashlitejunk_norm, df_s2_bashlitescan_norm, df_s2_bashliteudp_norm, df_s2_bashlitetcp_norm,\n",
    "                             df_s3_miraiack_norm, df_s3_miraiscan_norm, df_s3_miraisyn_norm, df_s3_miraiudp_norm, df_s3_miraiudpplain_norm,\n",
    "                             df_s3_bashlitecombo_norm, df_s3_bashlitejunk_norm, df_s3_bashlitescan_norm, df_s3_bashliteudp_norm, df_s3_bashlitetcp_norm,\n",
    "                             df_sw_bashlitecombo_norm, df_sw_bashlitejunk_norm, df_sw_bashlitescan_norm, df_sw_bashliteudp_norm, df_sw_bashlitetcp_norm])\n",
    "\n",
    "X_train_label = np.zeros(len(X_train_AE))\n",
    "\n",
    "Y_test_AE = np.ones(len(X_test_AE))\n",
    "Y_test_AE[:len(X_test_benign)] = 0"
   ]
  },
  {
   "cell_type": "code",
   "execution_count": null,
   "metadata": {},
   "outputs": [],
   "source": [
    "X_train_AE.shape, X_test_AE.shape, Y_test_AE.shape"
   ]
  },
  {
   "cell_type": "code",
   "execution_count": null,
   "metadata": {},
   "outputs": [],
   "source": [
    "def saveHist(path, history):\n",
    "    with codecs.open(path, 'w', encoding='utf-8') as f:\n",
    "        json.dump(history, f, separators=(',', ':'), sort_keys=True, indent=4) \n",
    "\n",
    "def loadHist(path):\n",
    "    n = {} # set history to empty\n",
    "    if os.path.exists(path): # reload history if it exists\n",
    "        with codecs.open(path, 'r', encoding='utf-8') as f:\n",
    "            n = json.loads(f.read())\n",
    "    return n\n",
    "\n",
    "def appendHist(h1, h2):\n",
    "    if h1 == {}:\n",
    "        return h2\n",
    "    else:\n",
    "        dest = {}\n",
    "        for key, value in h1.items():\n",
    "            dest[key] = value + h2[key]\n",
    "        return dest"
   ]
  },
  {
   "cell_type": "code",
   "execution_count": null,
   "metadata": {},
   "outputs": [],
   "source": [
    "# Parameters\n",
    "original_dim = X_train_AE.shape[1]\n",
    "input_shape = (original_dim,)\n",
    "intermediate_dim = int(original_dim / 2)\n",
    "latent_dim = int(original_dim / 3)"
   ]
  },
  {
   "cell_type": "code",
   "execution_count": null,
   "metadata": {},
   "outputs": [],
   "source": [
    "class VectorQuantizer(layers.Layer):\n",
    "    def __init__(self, num_embeddings, embedding_dim, beta=0.25, **kwargs):\n",
    "        super().__init__(**kwargs)\n",
    "        self.embedding_dim = embedding_dim\n",
    "        self.num_embeddings = num_embeddings\n",
    "\n",
    "        # The `beta` parameter is best kept between [0.25, 2] as per the paper.\n",
    "        self.beta = beta\n",
    "\n",
    "        # Initialize the embeddings which we will quantize.\n",
    "        w_init = tf.random_uniform_initializer()\n",
    "        self.embeddings = tf.Variable(\n",
    "            initial_value=w_init(\n",
    "                shape=(self.embedding_dim, self.num_embeddings), dtype=\"float32\"\n",
    "            ),\n",
    "            trainable=True,\n",
    "            name=\"embeddings_vqvae\",\n",
    "        )\n",
    "\n",
    "    def call(self, x):\n",
    "        # Calculate the input shape of the inputs and\n",
    "        # then flatten the inputs keeping `embedding_dim` intact.\n",
    "        input_shape = tf.shape(x)\n",
    "        flattened = tf.reshape(x, [-1, self.embedding_dim])\n",
    "\n",
    "        # Quantization.\n",
    "        encoding_indices = self.get_code_indices(flattened)\n",
    "        encodings = tf.one_hot(encoding_indices, self.num_embeddings)\n",
    "        quantized = tf.matmul(encodings, self.embeddings, transpose_b=True)\n",
    "\n",
    "        # Reshape the quantized values back to the original input shape\n",
    "        quantized = tf.reshape(quantized, input_shape)\n",
    "\n",
    "        # Calculate vector quantization loss and add that to the layer. You can learn more\n",
    "        # about adding losses to different layers here:\n",
    "        # https://keras.io/guides/making_new_layers_and_models_via_subclassing/. Check\n",
    "        # the original paper to get a handle on the formulation of the loss function.\n",
    "        commitment_loss = tf.reduce_mean((tf.stop_gradient(quantized) - x) ** 2)\n",
    "        codebook_loss = tf.reduce_mean((quantized - tf.stop_gradient(x)) ** 2)\n",
    "        self.add_loss(self.beta * commitment_loss + codebook_loss)\n",
    "\n",
    "        # Straight-through estimator.\n",
    "        quantized = x + tf.stop_gradient(quantized - x)\n",
    "        return quantized\n",
    "\n",
    "    def get_code_indices(self, flattened_inputs):\n",
    "        # Calculate L2-normalized distance between the inputs and the codes.\n",
    "        similarity = tf.matmul(flattened_inputs, self.embeddings)\n",
    "        distances = (\n",
    "            tf.reduce_sum(flattened_inputs ** 2, axis=1, keepdims=True)\n",
    "            + tf.reduce_sum(self.embeddings ** 2, axis=0)\n",
    "            - 2 * similarity\n",
    "        )\n",
    "\n",
    "        # Derive the indices for minimum distances.\n",
    "        encoding_indices = tf.argmin(distances, axis=1)\n",
    "        return encoding_indices"
   ]
  },
  {
   "cell_type": "code",
   "execution_count": null,
   "metadata": {},
   "outputs": [],
   "source": [
    "# Reparameterization trick\n",
    "def sample(args):\n",
    "    z_mean, z_var = args\n",
    "    batch = K.shape(z_mean)[0]\n",
    "    dim = K.int_shape(z_mean)[1]\n",
    "    epsilon = K.random_normal(shape = (batch, dim))\n",
    "    \n",
    "    return z_mean + K.exp(0.5 * z_var) * epsilon"
   ]
  },
  {
   "cell_type": "code",
   "execution_count": null,
   "metadata": {},
   "outputs": [],
   "source": [
    "def get_encoder(input_shape, latent_dim=latent_dim):\n",
    "    encoder_inputs = Input(shape = input_shape, name = 'encoder_input')\n",
    "    x = Dense(intermediate_dim, activation = 'relu')(encoder_inputs)\n",
    "\n",
    "    z_mean = Dense(latent_dim, name = 'z_mean')(x)\n",
    "    z_var = Dense(latent_dim, name = 'z_var')(x)\n",
    "    z = layers.Lambda(sample, output_shape = (latent_dim,), name = 'z')([z_mean, z_var])\n",
    "    \n",
    "    return keras.Model(encoder_inputs, z, name=\"encoder\")\n",
    "\n",
    "def get_decoder(latent_dim=latent_dim):\n",
    "    latent_inputs = Input(shape = (latent_dim,), name = 'z_sampling')\n",
    "    x = Dense(intermediate_dim, activation = 'relu')(latent_inputs)\n",
    "    decoder_outputs = Dense(original_dim, activation = 'sigmoid')(x)\n",
    "    \n",
    "    return keras.Model(latent_inputs, decoder_outputs, name=\"decoder\")\n"
   ]
  },
  {
   "cell_type": "code",
   "execution_count": null,
   "metadata": {},
   "outputs": [],
   "source": [
    "def get_vqvae(latent_dim=latent_dim, num_embeddings=64):\n",
    "    vq_layer = VectorQuantizer(num_embeddings, latent_dim, name=\"vector_quantizer\")\n",
    "    \n",
    "    encoder = get_encoder(input_shape, latent_dim)\n",
    "    decoder = get_decoder(latent_dim)\n",
    "    \n",
    "    inputs = keras.Input(shape = input_shape)\n",
    "    encoder_outputs = encoder(inputs)\n",
    "    quantized_latents = vq_layer(encoder_outputs)\n",
    "    reconstructions = decoder(quantized_latents)\n",
    "    \n",
    "    return keras.Model(inputs, reconstructions, name=\"vq_vae\")\n",
    "\n",
    "get_vqvae().summary()"
   ]
  },
  {
   "cell_type": "code",
   "execution_count": null,
   "metadata": {},
   "outputs": [],
   "source": [
    "class VQVAETrainer(keras.models.Model):\n",
    "    def __init__(self, train_variance, latent_dim=32, num_embeddings=128, **kwargs):\n",
    "        super().__init__(**kwargs)\n",
    "        self.train_variance = train_variance\n",
    "        self.latent_dim = latent_dim\n",
    "        self.num_embeddings = num_embeddings\n",
    "\n",
    "        self.vqvae = get_vqvae(self.latent_dim, self.num_embeddings)\n",
    "\n",
    "        self.total_loss_tracker = keras.metrics.Mean(name=\"total_loss\")\n",
    "        self.reconstruction_loss_tracker = keras.metrics.Mean(\n",
    "            name=\"reconstruction_loss\"\n",
    "        )\n",
    "        self.vq_loss_tracker = keras.metrics.Mean(name=\"vq_loss\")\n",
    "\n",
    "    @property\n",
    "    def metrics(self):\n",
    "        return [\n",
    "            self.total_loss_tracker,\n",
    "            self.reconstruction_loss_tracker,\n",
    "            self.vq_loss_tracker,\n",
    "        ]\n",
    "\n",
    "    def train_step(self, x):\n",
    "        with tf.GradientTape() as tape:\n",
    "            # Outputs from the VQ-VAE.\n",
    "            reconstructions = self.vqvae(x)\n",
    "\n",
    "            # Calculate the losses.\n",
    "            reconstruction_loss = (\n",
    "                tf.reduce_mean((x - reconstructions) ** 2) / self.train_variance\n",
    "            )\n",
    "            total_loss = reconstruction_loss + sum(self.vqvae.losses)\n",
    "\n",
    "        # Backpropagation.\n",
    "        grads = tape.gradient(total_loss, self.vqvae.trainable_variables)\n",
    "        self.optimizer.apply_gradients(zip(grads, self.vqvae.trainable_variables))\n",
    "\n",
    "        # Loss tracking.\n",
    "        self.total_loss_tracker.update_state(total_loss)\n",
    "        self.reconstruction_loss_tracker.update_state(reconstruction_loss)\n",
    "        self.vq_loss_tracker.update_state(sum(self.vqvae.losses))\n",
    "\n",
    "        # Log results.\n",
    "        return {\n",
    "            \"loss\": self.total_loss_tracker.result(),\n",
    "            \"reconstruction_loss\": self.reconstruction_loss_tracker.result(),\n",
    "            \"vqvae_loss\": self.vq_loss_tracker.result(),\n",
    "        }\n",
    "    "
   ]
  },
  {
   "cell_type": "code",
   "execution_count": null,
   "metadata": {},
   "outputs": [],
   "source": [
    "epochs = 100\n",
    "learning_rate = 0.001          # learning rate\n",
    "batch_size = 32\n",
    "history_filename = 'history.json'\n",
    "\n",
    "data_variance = np.var(X_train_AE)"
   ]
  },
  {
   "cell_type": "markdown",
   "metadata": {
    "id": "baSYMJ6FzkVi"
   },
   "source": [
    "## Train"
   ]
  },
  {
   "cell_type": "code",
   "execution_count": null,
   "metadata": {},
   "outputs": [],
   "source": [
    "vqvae_trainer = VQVAETrainer(data_variance, latent_dim=latent_dim, num_embeddings=128)\n",
    "\n",
    "vqvae_trainer.compile(optimizer=keras.optimizers.Adam())\n",
    "\n",
    "train_start = time.time()\n",
    "history = vqvae_trainer.fit(X_train_AE, \n",
    "                            epochs=epochs, \n",
    "                            batch_size=batch_size,\n",
    "                            validation_split = 0.10,\n",
    "                            shuffle=False).history\n",
    "train_end = time.time()\n",
    "train_time = train_end - train_start\n",
    "\n",
    "print(f\"Fit time: {train_time:.2f}s\")"
   ]
  },
  {
   "cell_type": "code",
   "execution_count": null,
   "metadata": {
    "scrolled": true
   },
   "outputs": [],
   "source": [
    "# plot the training and validation losses\n",
    "fig, ax = plt.subplots(figsize=(10, 4), dpi=80)\n",
    "\n",
    "ax.plot(history['loss'], 'b', label='Train', linewidth=2)\n",
    "ax.plot(history['val_loss'], 'r', label='Validation', linewidth=2)\n",
    "ax.set_title('Model loss', fontsize=16)\n",
    "# ax.set_ylim([0, 0.04])\n",
    "ax.set_ylabel('Loss (mae)')\n",
    "ax.set_xlabel('Epoch')\n",
    "ax.legend(loc='upper right')\n",
    "\n",
    "plt.show()"
   ]
  },
  {
   "cell_type": "code",
   "execution_count": null,
   "metadata": {},
   "outputs": [],
   "source": [
    "# plot the training and validation accuracys\n",
    "fig, ax = plt.subplots(figsize=(10, 4), dpi=80)\n",
    "ax.plot(history['accuracy'], label='Train')\n",
    "ax.plot(history['val_accuracy'], label='Validation')\n",
    "ax.set_title('Model Accuracy', fontsize=16)\n",
    "ax.set_ylabel('Accuracy')\n",
    "# ax.set_ylim([0.45, 1.05])\n",
    "ax.set_xlabel('Epoch')\n",
    "ax.legend(loc='upper right')\n",
    "\n",
    "plt.show()"
   ]
  },
  {
   "cell_type": "markdown",
   "metadata": {},
   "source": [
    "## Test"
   ]
  },
  {
   "cell_type": "code",
   "execution_count": null,
   "metadata": {},
   "outputs": [],
   "source": [
    "trained_vqvae_model = vqvae_trainer.vqvae\n",
    "\n",
    "reconstructions_test = trained_vqvae_model.predict(X_test_AE)"
   ]
  },
  {
   "cell_type": "code",
   "execution_count": null,
   "metadata": {},
   "outputs": [],
   "source": [
    "X_test_AE.shape, reconstructions_test.shape"
   ]
  },
  {
   "cell_type": "code",
   "execution_count": null,
   "metadata": {},
   "outputs": [],
   "source": [
    "# sns.set(color_codes=True)\n",
    "scored_test = pd.DataFrame(index=pd.RangeIndex.from_range(range(0, len(X_test_AE))))\n",
    "\n",
    "scored_test['Loss_mae'] = np.mean(np.abs(reconstructions_test - X_test_AE), axis = 1)\n",
    "plt.figure(figsize=(10, 6), dpi=80)\n",
    "plt.title(\"Loss Distribution Train\", fontsize=16)\n",
    "\n",
    "sns.distplot(scored_train['Loss_mae'], bins = 80, kde=True, color='blue');\n",
    "\n",
    "plt.xlim([0.0, 1]);"
   ]
  },
  {
   "cell_type": "code",
   "execution_count": null,
   "metadata": {},
   "outputs": [],
   "source": [
    "threshold = 0.09\n",
    "\n",
    "scored_test['Loss_mae'] = np.mean(np.abs(reconstructions_test - X_test_AE), axis = 1)    # error vector in testing data\n",
    "scored_test['Threshold'] = threshold \n",
    "scored_test['Anomaly'] = scored_test['Loss_mae'] > scored_test['Threshold'] # if > then == attack\n",
    "\n",
    "scored_test.head(10)"
   ]
  },
  {
   "cell_type": "code",
   "execution_count": null,
   "metadata": {},
   "outputs": [],
   "source": [
    "print(classification_report(Y_test_AE, scored_test['Anomaly'], target_names=['Benign', 'Anomaly'], digits = 5))"
   ]
  },
  {
   "cell_type": "code",
   "execution_count": null,
   "metadata": {},
   "outputs": [],
   "source": []
  },
  {
   "cell_type": "code",
   "execution_count": null,
   "metadata": {},
   "outputs": [],
   "source": []
  }
 ],
 "metadata": {
  "colab": {
   "collapsed_sections": [
    "qza11QGutfDw",
    "_6pGD5Q1CMZG",
    "LNh5918tGctl"
   ],
   "provenance": []
  },
  "kernelspec": {
   "display_name": "Python 3 (ipykernel)",
   "language": "python",
   "name": "python3"
  },
  "language_info": {
   "codemirror_mode": {
    "name": "ipython",
    "version": 3
   },
   "file_extension": ".py",
   "mimetype": "text/x-python",
   "name": "python",
   "nbconvert_exporter": "python",
   "pygments_lexer": "ipython3",
   "version": "3.10.6"
  }
 },
 "nbformat": 4,
 "nbformat_minor": 1
}
