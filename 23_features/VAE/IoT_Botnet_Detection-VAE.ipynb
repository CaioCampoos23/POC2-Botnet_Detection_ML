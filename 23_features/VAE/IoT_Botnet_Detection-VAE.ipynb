{
 "cells": [
  {
   "cell_type": "markdown",
   "metadata": {},
   "source": [
    "# Table of Contents\n",
    "* [1. DDoS Detection on IoT - Unique Model - L5](#1.-DDoS-Detection-on-IoT---Unique-Model---L5)\n",
    "\t* [1.1 Imports](#1.1-Imports)\n",
    "* [2. Import Datasets and Normalize](#2.-Import-Datasets-and-Normalize)\n",
    "\t* [2.1 Danmini Doorbell](#2.1-Danmini-Doorbell)\n",
    "\t* [2.2 Ecobee Thermostat](#2.2-Ecobee-Thermostat)\n",
    "\t* [2.3 Ennio Doorbell](#2.3-Ennio-Doorbell)\n",
    "\t* [2.4 Philips Baby Monitor](#2.4-Philips-Baby-Monitor)\n",
    "\t* [2.5 Security Camera](#2.5-Security-Camera)\n",
    "\t* [2.6 Security Camera](#2.6-Security-Camera)\n",
    "\t* [2.7 Security Camera](#2.7-Security-Camera)\n",
    "\t* [2.8 Security Camera](#2.8-Security-Camera)\n",
    "\t* [2.9 Samsung Webcam](#2.9-Samsung-Webcam)\n",
    "* [3. Variational Autoencoder - Attack Detection](#3.-Variational-Autoencoder---Attack-Detection)\n",
    "\t* [3.1 Model](#3.1-Model)\n",
    "\t* [3.2 Train](#3.2-Train)\n",
    "\t* [3.3 Test](#3.3-Test)\n",
    "\t* [3.4 Metrics](#3.4-Metrics)\n"
   ]
  },
  {
   "cell_type": "markdown",
   "metadata": {
    "id": "4x2uUPGmA3Cw"
   },
   "source": [
    "# 1. DDoS Detection on IoT - Unique Model - L5 - 23 Features - VAE"
   ]
  },
  {
   "cell_type": "markdown",
   "metadata": {
    "id": "qza11QGutfDw"
   },
   "source": [
    "## 1.1 Imports"
   ]
  },
  {
   "cell_type": "code",
   "execution_count": 1,
   "metadata": {
    "id": "u20xHKcoKlwB"
   },
   "outputs": [
    {
     "name": "stderr",
     "output_type": "stream",
     "text": [
      "2023-05-17 12:26:19.322464: I tensorflow/tsl/cuda/cudart_stub.cc:28] Could not find cuda drivers on your machine, GPU will not be used.\n",
      "2023-05-17 12:26:19.381462: I tensorflow/tsl/cuda/cudart_stub.cc:28] Could not find cuda drivers on your machine, GPU will not be used.\n",
      "2023-05-17 12:26:19.382454: I tensorflow/core/platform/cpu_feature_guard.cc:182] This TensorFlow binary is optimized to use available CPU instructions in performance-critical operations.\n",
      "To enable the following instructions: AVX2 FMA, in other operations, rebuild TensorFlow with the appropriate compiler flags.\n",
      "2023-05-17 12:26:20.499007: W tensorflow/compiler/tf2tensorrt/utils/py_utils.cc:38] TF-TRT Warning: Could not find TensorRT\n"
     ]
    }
   ],
   "source": [
    "import os\n",
    "os.environ['PYTHONHASHSEED'] = '0'\n",
    "os.environ[\"CUDA_VISIBLE_DEVICES\"]=\"-1\"\n",
    "os.environ[\"TF_CUDNN_USE_AUTOTUNE\"]=\"0\"\n",
    "\n",
    "import numpy as np\n",
    "np.random.seed(2023)\n",
    "\n",
    "import random as rn\n",
    "rn.seed(2023)\n",
    "\n",
    "import tensorflow as tf\n",
    "tf.random.set_seed(2023)\n",
    "tf.compat.v1.disable_eager_execution()\n",
    "from tensorflow import keras\n",
    "\n",
    "from datetime import datetime\n",
    "import matplotlib.pyplot as plt\n",
    "import seaborn as sns\n",
    "import pandas as pd\n",
    "import math\n",
    "import time\n",
    "import sys\n",
    "\n",
    "from tensorflow.keras.models import Model\n",
    "from tensorflow.keras.layers import Lambda, Input, Dense\n",
    "from tensorflow.keras.losses import mse\n",
    "from tensorflow.keras import optimizers\n",
    "from tensorflow.keras import backend as K\n",
    "\n",
    "from sklearn.pipeline import Pipeline\n",
    "from sklearn.preprocessing import MinMaxScaler\n",
    "from sklearn.metrics import classification_report, mean_squared_error, confusion_matrix, accuracy_score, f1_score, precision_score, recall_score\n",
    "from sklearn.metrics import ConfusionMatrixDisplay\n",
    "\n",
    "%matplotlib inline\n",
    "\n",
    "import json, codecs"
   ]
  },
  {
   "cell_type": "markdown",
   "metadata": {
    "id": "_6pGD5Q1CMZG"
   },
   "source": [
    "# 2. Import Datasets and Normalize"
   ]
  },
  {
   "cell_type": "markdown",
   "metadata": {
    "id": "kcQlCI3ZWQDO"
   },
   "source": [
    "## 2.1 Danmini Doorbell"
   ]
  },
  {
   "cell_type": "code",
   "execution_count": 2,
   "metadata": {
    "id": "AH7WiqEkQyHM"
   },
   "outputs": [],
   "source": [
    "# Benign traffic\n",
    "\n",
    "dd_benign = pd.read_csv('/mnt/extra/2023-1_10Periodo/Poc_II/nbaiot/Danmini_Doorbell/benign_traffic.csv', encoding = \"utf-8\", sep = ',' ) \n",
    "df_dd_benign = dd_benign.copy(deep=True)\n",
    "\n",
    "columns = list(df_dd_benign.columns)\n",
    "chosen_columns = []\n",
    "\n",
    "for column in columns:\n",
    "    if column.find('L5') != -1:             # selecionando apenas intervalo L5 (100 ms)\n",
    "        chosen_columns.append(column)\n",
    "\n",
    "df_dd_benign = pd.DataFrame(df_dd_benign, columns = chosen_columns)\n",
    "\n",
    "# Mirai attacks\n",
    "dd_mirai_ack = pd.read_csv('/mnt/extra/2023-1_10Periodo/Poc_II/nbaiot/Danmini_Doorbell/mirai_attacks/ack.csv', encoding = \"utf-8\", sep = ',' ) \n",
    "df_dd_mirai_ack = dd_mirai_ack.copy(deep=True)\n",
    "df_dd_mirai_ack = pd.DataFrame(df_dd_mirai_ack, columns = chosen_columns)\n",
    "\n",
    "dd_mirai_scan = pd.read_csv('/mnt/extra/2023-1_10Periodo/Poc_II/nbaiot/Danmini_Doorbell/mirai_attacks/scan.csv', encoding = \"utf-8\", sep = ',' ) \n",
    "df_dd_mirai_scan = dd_mirai_scan.copy(deep=True)\n",
    "df_dd_mirai_scan = pd.DataFrame(df_dd_mirai_scan, columns = chosen_columns)\n",
    "\n",
    "dd_mirai_syn = pd.read_csv('/mnt/extra/2023-1_10Periodo/Poc_II/nbaiot/Danmini_Doorbell/mirai_attacks/syn.csv', encoding = \"utf-8\", sep = ',' ) \n",
    "df_dd_mirai_syn = dd_mirai_syn.copy(deep=True)\n",
    "df_dd_mirai_syn = pd.DataFrame(df_dd_mirai_syn, columns = chosen_columns)\n",
    "\n",
    "dd_mirai_udp = pd.read_csv('/mnt/extra/2023-1_10Periodo/Poc_II/nbaiot/Danmini_Doorbell/mirai_attacks/udp.csv', encoding = \"utf-8\", sep = ',' ) \n",
    "df_dd_mirai_udp = dd_mirai_udp.copy(deep=True)\n",
    "df_dd_mirai_udp = pd.DataFrame(df_dd_mirai_udp, columns = chosen_columns)\n",
    "\n",
    "dd_mirai_udpplain = pd.read_csv('/mnt/extra/2023-1_10Periodo/Poc_II/nbaiot/Danmini_Doorbell/mirai_attacks/udpplain.csv', encoding = \"utf-8\", sep = ',' ) \n",
    "df_dd_mirai_udpplain = dd_mirai_udpplain.copy(deep=True)\n",
    "df_dd_mirai_udpplain = pd.DataFrame(df_dd_mirai_udpplain, columns = chosen_columns)\n",
    "\n",
    "# Bashlite attacks\n",
    "dd_bashlite_combo = pd.read_csv('/mnt/extra/2023-1_10Periodo/Poc_II/nbaiot/Danmini_Doorbell/gafgyt_attacks/combo.csv', encoding = \"utf-8\", sep = ',' ) \n",
    "df_dd_bashlite_combo = dd_bashlite_combo.copy(deep=True)\n",
    "df_dd_bashlite_combo = pd.DataFrame(df_dd_bashlite_combo, columns = chosen_columns)\n",
    "\n",
    "dd_bashlite_junk = pd.read_csv('/mnt/extra/2023-1_10Periodo/Poc_II/nbaiot/Danmini_Doorbell/gafgyt_attacks/junk.csv', encoding = \"utf-8\", sep = ',' ) \n",
    "df_dd_bashlite_junk = dd_bashlite_junk.copy(deep=True)\n",
    "df_dd_bashlite_junk = pd.DataFrame(df_dd_bashlite_junk, columns = chosen_columns)\n",
    "\n",
    "dd_bashlite_scan = pd.read_csv('/mnt/extra/2023-1_10Periodo/Poc_II/nbaiot/Danmini_Doorbell/gafgyt_attacks/scan.csv', encoding = \"utf-8\", sep = ',' ) \n",
    "df_dd_bashlite_scan = dd_bashlite_scan.copy(deep=True)\n",
    "df_dd_bashlite_scan = pd.DataFrame(df_dd_bashlite_scan, columns = chosen_columns)\n",
    "\n",
    "dd_bashlite_udp = pd.read_csv('/mnt/extra/2023-1_10Periodo/Poc_II/nbaiot/Danmini_Doorbell/gafgyt_attacks/udp.csv', encoding = \"utf-8\", sep = ',' ) \n",
    "df_dd_bashlite_udp = dd_bashlite_udp.copy(deep=True)\n",
    "df_dd_bashlite_udp = pd.DataFrame(df_dd_bashlite_udp, columns = chosen_columns)\n",
    "\n",
    "dd_bashlite_tcp = pd.read_csv('/mnt/extra/2023-1_10Periodo/Poc_II/nbaiot/Danmini_Doorbell/gafgyt_attacks/tcp.csv', encoding = \"utf-8\", sep = ',' ) \n",
    "df_dd_bashlite_tcp = dd_bashlite_tcp.copy(deep=True)\n",
    "df_dd_bashlite_tcp = pd.DataFrame(df_dd_bashlite_tcp, columns = chosen_columns)"
   ]
  },
  {
   "cell_type": "code",
   "execution_count": 3,
   "metadata": {},
   "outputs": [
    {
     "data": {
      "text/html": [
       "<div>\n",
       "<style scoped>\n",
       "    .dataframe tbody tr th:only-of-type {\n",
       "        vertical-align: middle;\n",
       "    }\n",
       "\n",
       "    .dataframe tbody tr th {\n",
       "        vertical-align: top;\n",
       "    }\n",
       "\n",
       "    .dataframe thead th {\n",
       "        text-align: right;\n",
       "    }\n",
       "</style>\n",
       "<table border=\"1\" class=\"dataframe\">\n",
       "  <thead>\n",
       "    <tr style=\"text-align: right;\">\n",
       "      <th></th>\n",
       "      <th>MI_dir_L5_weight</th>\n",
       "      <th>MI_dir_L5_mean</th>\n",
       "      <th>MI_dir_L5_variance</th>\n",
       "      <th>H_L5_weight</th>\n",
       "      <th>H_L5_mean</th>\n",
       "      <th>H_L5_variance</th>\n",
       "      <th>HH_L5_weight</th>\n",
       "      <th>HH_L5_mean</th>\n",
       "      <th>HH_L5_std</th>\n",
       "      <th>HH_L5_magnitude</th>\n",
       "      <th>...</th>\n",
       "      <th>HH_jit_L5_weight</th>\n",
       "      <th>HH_jit_L5_mean</th>\n",
       "      <th>HH_jit_L5_variance</th>\n",
       "      <th>HpHp_L5_weight</th>\n",
       "      <th>HpHp_L5_mean</th>\n",
       "      <th>HpHp_L5_std</th>\n",
       "      <th>HpHp_L5_magnitude</th>\n",
       "      <th>HpHp_L5_radius</th>\n",
       "      <th>HpHp_L5_covariance</th>\n",
       "      <th>HpHp_L5_pcc</th>\n",
       "    </tr>\n",
       "  </thead>\n",
       "  <tbody>\n",
       "    <tr>\n",
       "      <th>0</th>\n",
       "      <td>1.000000</td>\n",
       "      <td>60.000000</td>\n",
       "      <td>0.000000</td>\n",
       "      <td>1.000000</td>\n",
       "      <td>60.000000</td>\n",
       "      <td>0.000000</td>\n",
       "      <td>1.000000</td>\n",
       "      <td>60.000000</td>\n",
       "      <td>0.000000</td>\n",
       "      <td>60.000000</td>\n",
       "      <td>...</td>\n",
       "      <td>1.000000</td>\n",
       "      <td>1.505662e+09</td>\n",
       "      <td>0.000000e+00</td>\n",
       "      <td>1.000000</td>\n",
       "      <td>60.000000</td>\n",
       "      <td>0.000000</td>\n",
       "      <td>60.000000</td>\n",
       "      <td>0.000000</td>\n",
       "      <td>0.0</td>\n",
       "      <td>0.0</td>\n",
       "    </tr>\n",
       "    <tr>\n",
       "      <th>1</th>\n",
       "      <td>1.000000</td>\n",
       "      <td>354.000000</td>\n",
       "      <td>0.000000</td>\n",
       "      <td>1.000000</td>\n",
       "      <td>354.000000</td>\n",
       "      <td>0.000005</td>\n",
       "      <td>1.000000</td>\n",
       "      <td>354.000000</td>\n",
       "      <td>0.002143</td>\n",
       "      <td>354.000000</td>\n",
       "      <td>...</td>\n",
       "      <td>1.000000</td>\n",
       "      <td>4.980575e+00</td>\n",
       "      <td>4.230000e-07</td>\n",
       "      <td>1.000000</td>\n",
       "      <td>354.000000</td>\n",
       "      <td>0.002143</td>\n",
       "      <td>354.000000</td>\n",
       "      <td>0.000005</td>\n",
       "      <td>0.0</td>\n",
       "      <td>0.0</td>\n",
       "    </tr>\n",
       "    <tr>\n",
       "      <th>2</th>\n",
       "      <td>1.857879</td>\n",
       "      <td>360.458980</td>\n",
       "      <td>35.789338</td>\n",
       "      <td>1.857879</td>\n",
       "      <td>360.458979</td>\n",
       "      <td>35.789342</td>\n",
       "      <td>1.857879</td>\n",
       "      <td>360.458979</td>\n",
       "      <td>5.982419</td>\n",
       "      <td>360.458979</td>\n",
       "      <td>...</td>\n",
       "      <td>1.857879</td>\n",
       "      <td>2.323596e+00</td>\n",
       "      <td>6.056226e+00</td>\n",
       "      <td>1.857879</td>\n",
       "      <td>360.458979</td>\n",
       "      <td>5.982419</td>\n",
       "      <td>360.458979</td>\n",
       "      <td>35.789342</td>\n",
       "      <td>0.0</td>\n",
       "      <td>0.0</td>\n",
       "    </tr>\n",
       "    <tr>\n",
       "      <th>3</th>\n",
       "      <td>1.000000</td>\n",
       "      <td>337.000000</td>\n",
       "      <td>0.000000</td>\n",
       "      <td>1.000000</td>\n",
       "      <td>337.000000</td>\n",
       "      <td>0.000000</td>\n",
       "      <td>1.000000</td>\n",
       "      <td>337.000000</td>\n",
       "      <td>0.000000</td>\n",
       "      <td>337.000000</td>\n",
       "      <td>...</td>\n",
       "      <td>1.000000</td>\n",
       "      <td>1.505662e+09</td>\n",
       "      <td>0.000000e+00</td>\n",
       "      <td>1.000000</td>\n",
       "      <td>337.000000</td>\n",
       "      <td>0.000000</td>\n",
       "      <td>337.000000</td>\n",
       "      <td>0.000000</td>\n",
       "      <td>0.0</td>\n",
       "      <td>0.0</td>\n",
       "    </tr>\n",
       "    <tr>\n",
       "      <th>4</th>\n",
       "      <td>1.680223</td>\n",
       "      <td>172.140917</td>\n",
       "      <td>18487.448750</td>\n",
       "      <td>1.680223</td>\n",
       "      <td>172.140917</td>\n",
       "      <td>18487.448750</td>\n",
       "      <td>1.000000</td>\n",
       "      <td>60.000000</td>\n",
       "      <td>0.000000</td>\n",
       "      <td>524.399648</td>\n",
       "      <td>...</td>\n",
       "      <td>1.000000</td>\n",
       "      <td>1.505662e+09</td>\n",
       "      <td>0.000000e+00</td>\n",
       "      <td>1.000000</td>\n",
       "      <td>60.000000</td>\n",
       "      <td>0.000000</td>\n",
       "      <td>60.000000</td>\n",
       "      <td>0.000000</td>\n",
       "      <td>0.0</td>\n",
       "      <td>0.0</td>\n",
       "    </tr>\n",
       "  </tbody>\n",
       "</table>\n",
       "<p>5 rows × 23 columns</p>\n",
       "</div>"
      ],
      "text/plain": [
       "   MI_dir_L5_weight  MI_dir_L5_mean  MI_dir_L5_variance  H_L5_weight   \n",
       "0          1.000000       60.000000            0.000000     1.000000  \\\n",
       "1          1.000000      354.000000            0.000000     1.000000   \n",
       "2          1.857879      360.458980           35.789338     1.857879   \n",
       "3          1.000000      337.000000            0.000000     1.000000   \n",
       "4          1.680223      172.140917        18487.448750     1.680223   \n",
       "\n",
       "    H_L5_mean  H_L5_variance  HH_L5_weight  HH_L5_mean  HH_L5_std   \n",
       "0   60.000000       0.000000      1.000000   60.000000   0.000000  \\\n",
       "1  354.000000       0.000005      1.000000  354.000000   0.002143   \n",
       "2  360.458979      35.789342      1.857879  360.458979   5.982419   \n",
       "3  337.000000       0.000000      1.000000  337.000000   0.000000   \n",
       "4  172.140917   18487.448750      1.000000   60.000000   0.000000   \n",
       "\n",
       "   HH_L5_magnitude  ...  HH_jit_L5_weight  HH_jit_L5_mean  HH_jit_L5_variance   \n",
       "0        60.000000  ...          1.000000    1.505662e+09        0.000000e+00  \\\n",
       "1       354.000000  ...          1.000000    4.980575e+00        4.230000e-07   \n",
       "2       360.458979  ...          1.857879    2.323596e+00        6.056226e+00   \n",
       "3       337.000000  ...          1.000000    1.505662e+09        0.000000e+00   \n",
       "4       524.399648  ...          1.000000    1.505662e+09        0.000000e+00   \n",
       "\n",
       "   HpHp_L5_weight  HpHp_L5_mean  HpHp_L5_std  HpHp_L5_magnitude   \n",
       "0        1.000000     60.000000     0.000000          60.000000  \\\n",
       "1        1.000000    354.000000     0.002143         354.000000   \n",
       "2        1.857879    360.458979     5.982419         360.458979   \n",
       "3        1.000000    337.000000     0.000000         337.000000   \n",
       "4        1.000000     60.000000     0.000000          60.000000   \n",
       "\n",
       "   HpHp_L5_radius  HpHp_L5_covariance  HpHp_L5_pcc  \n",
       "0        0.000000                 0.0          0.0  \n",
       "1        0.000005                 0.0          0.0  \n",
       "2       35.789342                 0.0          0.0  \n",
       "3        0.000000                 0.0          0.0  \n",
       "4        0.000000                 0.0          0.0  \n",
       "\n",
       "[5 rows x 23 columns]"
      ]
     },
     "execution_count": 3,
     "metadata": {},
     "output_type": "execute_result"
    }
   ],
   "source": [
    "df_dd_benign.head()"
   ]
  },
  {
   "cell_type": "code",
   "execution_count": 4,
   "metadata": {
    "id": "tbGWwwLEbFPY"
   },
   "outputs": [],
   "source": [
    "scaler = MinMaxScaler()\n",
    "\n",
    "df_dd_benign_norm = scaler.fit_transform(df_dd_benign)\n",
    "df_dd_miraiack_norm = scaler.fit_transform(df_dd_mirai_ack)\n",
    "df_dd_miraiscan_norm = scaler.fit_transform(df_dd_mirai_scan)\n",
    "df_dd_miraisyn_norm = scaler.fit_transform(df_dd_mirai_syn)\n",
    "df_dd_miraiudp_norm = scaler.fit_transform(df_dd_mirai_udp)\n",
    "df_dd_miraiudpplain_norm = scaler.fit_transform(df_dd_mirai_udpplain)\n",
    "\n",
    "df_dd_bashlitecombo_norm = scaler.fit_transform(df_dd_bashlite_combo)\n",
    "df_dd_bashlitejunk_norm = scaler.fit_transform(df_dd_bashlite_junk)\n",
    "df_dd_bashlitescan_norm = scaler.fit_transform(df_dd_bashlite_scan)\n",
    "df_dd_bashliteudp_norm = scaler.fit_transform(df_dd_bashlite_udp)\n",
    "df_dd_bashlitetcp_norm = scaler.fit_transform(df_dd_bashlite_tcp)"
   ]
  },
  {
   "cell_type": "markdown",
   "metadata": {
    "id": "jkXZxHagAXVC"
   },
   "source": [
    "## 2.2 Ecobee Thermostat"
   ]
  },
  {
   "cell_type": "code",
   "execution_count": 5,
   "metadata": {
    "id": "NwMdi4hxAYlP"
   },
   "outputs": [],
   "source": [
    "# Benign traffic\n",
    "\n",
    "et_benign = pd.read_csv('/mnt/extra/2023-1_10Periodo/Poc_II/nbaiot/Ecobee_Thermostat/benign_traffic.csv', encoding = \"utf-8\", sep = ',' ) \n",
    "df_et_benign = et_benign.copy(deep=True)\n",
    "df_et_benign = pd.DataFrame(df_et_benign, columns = chosen_columns)\n",
    "\n",
    "# Mirai\n",
    "\n",
    "et_mirai_ack = pd.read_csv('/mnt/extra/2023-1_10Periodo/Poc_II/nbaiot/Ecobee_Thermostat/mirai_attacks/ack.csv', encoding = \"utf-8\", sep = ',' ) \n",
    "df_et_mirai_ack = et_mirai_ack.copy(deep=True)\n",
    "df_et_mirai_ack = pd.DataFrame(df_et_mirai_ack, columns = chosen_columns)\n",
    "\n",
    "et_mirai_scan = pd.read_csv('/mnt/extra/2023-1_10Periodo/Poc_II/nbaiot/Ecobee_Thermostat/mirai_attacks/scan.csv', encoding = \"utf-8\", sep = ',' ) \n",
    "df_et_mirai_scan = et_mirai_scan.copy(deep=True)\n",
    "df_et_mirai_scan = pd.DataFrame(df_et_mirai_scan, columns = chosen_columns)\n",
    "\n",
    "et_mirai_syn = pd.read_csv('/mnt/extra/2023-1_10Periodo/Poc_II/nbaiot/Ecobee_Thermostat/mirai_attacks/syn.csv', encoding = \"utf-8\", sep = ',' ) \n",
    "df_et_mirai_syn = et_mirai_syn.copy(deep=True)\n",
    "df_et_mirai_syn = pd.DataFrame(df_et_mirai_syn, columns = chosen_columns)\n",
    "\n",
    "et_mirai_udp = pd.read_csv('/mnt/extra/2023-1_10Periodo/Poc_II/nbaiot/Ecobee_Thermostat/mirai_attacks/udp.csv', encoding = \"utf-8\", sep = ',' ) \n",
    "df_et_mirai_udp = et_mirai_udp.copy(deep=True)\n",
    "df_et_mirai_udp = pd.DataFrame(df_et_mirai_udp, columns = chosen_columns)\n",
    "\n",
    "et_mirai_udpplain = pd.read_csv('/mnt/extra/2023-1_10Periodo/Poc_II/nbaiot/Ecobee_Thermostat/mirai_attacks/udpplain.csv', encoding = \"utf-8\", sep = ',' ) \n",
    "df_et_mirai_udpplain = et_mirai_udpplain.copy(deep=True)\n",
    "df_et_mirai_udpplain = pd.DataFrame(df_et_mirai_udpplain, columns = chosen_columns)\n",
    "\n",
    "# Bashlite\n",
    "\n",
    "et_bashlite_combo = pd.read_csv('/mnt/extra/2023-1_10Periodo/Poc_II/nbaiot/Ecobee_Thermostat/gafgyt_attacks/combo.csv', encoding = \"utf-8\", sep = ',' ) \n",
    "df_et_bashlite_combo = et_bashlite_combo.copy(deep=True)\n",
    "df_et_bashlite_combo = pd.DataFrame(df_et_bashlite_combo, columns = chosen_columns)\n",
    "\n",
    "et_bashlite_junk = pd.read_csv('/mnt/extra/2023-1_10Periodo/Poc_II/nbaiot/Ecobee_Thermostat/gafgyt_attacks/junk.csv', encoding = \"utf-8\", sep = ',' ) \n",
    "df_et_bashlite_junk = et_bashlite_junk.copy(deep=True)\n",
    "df_et_bashlite_junk = pd.DataFrame(df_et_bashlite_junk, columns = chosen_columns)\n",
    "\n",
    "et_bashlite_scan = pd.read_csv('/mnt/extra/2023-1_10Periodo/Poc_II/nbaiot/Ecobee_Thermostat/gafgyt_attacks/scan.csv', encoding = \"utf-8\", sep = ',' ) \n",
    "df_et_bashlite_scan = et_bashlite_scan.copy(deep=True)\n",
    "df_et_bashlite_scan = pd.DataFrame(df_et_bashlite_scan, columns = chosen_columns)\n",
    "\n",
    "et_bashlite_udp = pd.read_csv('/mnt/extra/2023-1_10Periodo/Poc_II/nbaiot/Ecobee_Thermostat/gafgyt_attacks/udp.csv', encoding = \"utf-8\", sep = ',' ) \n",
    "df_et_bashlite_udp = et_bashlite_udp.copy(deep=True)\n",
    "df_et_bashlite_udp = pd.DataFrame(df_et_bashlite_udp, columns = chosen_columns)\n",
    "\n",
    "et_bashlite_tcp = pd.read_csv('/mnt/extra/2023-1_10Periodo/Poc_II/nbaiot/Ecobee_Thermostat/gafgyt_attacks/tcp.csv', encoding = \"utf-8\", sep = ',' ) \n",
    "df_et_bashlite_tcp = et_bashlite_tcp.copy(deep=True)\n",
    "df_et_bashlite_tcp = pd.DataFrame(df_et_bashlite_tcp, columns = chosen_columns)"
   ]
  },
  {
   "cell_type": "code",
   "execution_count": 6,
   "metadata": {
    "id": "mRK5VFkPAeJf"
   },
   "outputs": [],
   "source": [
    "df_et_benign_norm = scaler.fit_transform(df_et_benign)\n",
    "\n",
    "df_et_miraiack_norm = scaler.fit_transform(df_et_mirai_ack)\n",
    "df_et_miraiscan_norm = scaler.fit_transform(df_et_mirai_scan)\n",
    "df_et_miraisyn_norm = scaler.fit_transform(df_et_mirai_syn)\n",
    "df_et_miraiudp_norm = scaler.fit_transform(df_et_mirai_udp)\n",
    "df_et_miraiudpplain_norm = scaler.fit_transform(df_et_mirai_udpplain)\n",
    "\n",
    "df_et_bashlitecombo_norm = scaler.fit_transform(df_et_bashlite_combo)\n",
    "df_et_bashlitejunk_norm = scaler.fit_transform(df_et_bashlite_junk)\n",
    "df_et_bashlitescan_norm = scaler.fit_transform(df_et_bashlite_scan)\n",
    "df_et_bashliteudp_norm = scaler.fit_transform(df_et_bashlite_udp)\n",
    "df_et_bashlitetcp_norm = scaler.fit_transform(df_et_bashlite_tcp)"
   ]
  },
  {
   "cell_type": "markdown",
   "metadata": {
    "id": "vAXCEiPGCbR_"
   },
   "source": [
    "## 2.3 Ennio Doorbell"
   ]
  },
  {
   "cell_type": "code",
   "execution_count": 7,
   "metadata": {
    "id": "v-EzDrOgCdne"
   },
   "outputs": [],
   "source": [
    "# Benign traffic\n",
    "\n",
    "ed_benign = pd.read_csv('/mnt/extra/2023-1_10Periodo/Poc_II/nbaiot/Ennio_Doorbell/benign_traffic.csv', encoding = \"utf-8\", sep = ',' ) \n",
    "df_ed_benign = ed_benign.copy(deep=True)\n",
    "df_ed_benign = pd.DataFrame(df_ed_benign, columns = chosen_columns)\n",
    "\n",
    "# Only Bashlite\n",
    "\n",
    "ed_bashlite_combo = pd.read_csv('/mnt/extra/2023-1_10Periodo/Poc_II/nbaiot/Ennio_Doorbell/gafgyt_attacks/combo.csv', encoding = \"utf-8\", sep = ',' ) \n",
    "df_ed_bashlite_combo = ed_bashlite_combo.copy(deep=True)\n",
    "df_ed_bashlite_combo = pd.DataFrame(df_ed_bashlite_combo, columns = chosen_columns)\n",
    "\n",
    "ed_bashlite_junk = pd.read_csv('/mnt/extra/2023-1_10Periodo/Poc_II/nbaiot/Ennio_Doorbell/gafgyt_attacks/junk.csv', encoding = \"utf-8\", sep = ',' ) \n",
    "df_ed_bashlite_junk = ed_bashlite_junk.copy(deep=True)\n",
    "df_ed_bashlite_junk = pd.DataFrame(df_ed_bashlite_junk, columns = chosen_columns)\n",
    "\n",
    "ed_bashlite_scan = pd.read_csv('/mnt/extra/2023-1_10Periodo/Poc_II/nbaiot/Ennio_Doorbell/gafgyt_attacks/scan.csv', encoding = \"utf-8\", sep = ',' ) \n",
    "df_ed_bashlite_scan = ed_bashlite_scan.copy(deep=True)\n",
    "df_ed_bashlite_scan = pd.DataFrame(df_ed_bashlite_scan, columns = chosen_columns)\n",
    "\n",
    "ed_bashlite_udp = pd.read_csv('/mnt/extra/2023-1_10Periodo/Poc_II/nbaiot/Ennio_Doorbell/gafgyt_attacks/udp.csv', encoding = \"utf-8\", sep = ',' ) \n",
    "df_ed_bashlite_udp = ed_bashlite_udp.copy(deep=True)\n",
    "df_ed_bashlite_udp = pd.DataFrame(df_ed_bashlite_udp, columns = chosen_columns)\n",
    "\n",
    "ed_bashlite_tcp = pd.read_csv('/mnt/extra/2023-1_10Periodo/Poc_II/nbaiot/Ennio_Doorbell/gafgyt_attacks/tcp.csv', encoding = \"utf-8\", sep = ',' ) \n",
    "df_ed_bashlite_tcp = ed_bashlite_tcp.copy(deep=True)\n",
    "df_ed_bashlite_tcp = pd.DataFrame(df_ed_bashlite_tcp, columns = chosen_columns)"
   ]
  },
  {
   "cell_type": "code",
   "execution_count": 8,
   "metadata": {
    "id": "_kqfUpTZCgIJ"
   },
   "outputs": [],
   "source": [
    "df_ed_benign_norm = scaler.fit_transform(df_ed_benign)\n",
    "\n",
    "df_ed_bashlitecombo_norm = scaler.fit_transform(df_ed_bashlite_combo)\n",
    "df_ed_bashlitejunk_norm = scaler.fit_transform(df_ed_bashlite_junk)\n",
    "df_ed_bashlitescan_norm = scaler.fit_transform(df_ed_bashlite_scan)\n",
    "df_ed_bashliteudp_norm = scaler.fit_transform(df_ed_bashlite_udp)\n",
    "df_ed_bashlitetcp_norm = scaler.fit_transform(df_ed_bashlite_tcp)"
   ]
  },
  {
   "cell_type": "markdown",
   "metadata": {
    "id": "2aQx0iX0C_Ik"
   },
   "source": [
    "## 2.4 Philips Baby Monitor"
   ]
  },
  {
   "cell_type": "code",
   "execution_count": 9,
   "metadata": {
    "id": "uj_VOZ-IDAdd"
   },
   "outputs": [],
   "source": [
    "# Benign traffic\n",
    "\n",
    "pb_benign = pd.read_csv('/mnt/extra/2023-1_10Periodo/Poc_II/nbaiot/Philips_B120N10_Baby_Monitor/benign_traffic.csv', encoding = \"utf-8\", sep = ',' ) \n",
    "df_pb_benign = pb_benign.copy(deep=True)\n",
    "df_pb_benign = pd.DataFrame(df_pb_benign, columns = chosen_columns)        \n",
    "        \n",
    "# Mirai\n",
    "\n",
    "pb_mirai_ack = pd.read_csv('/mnt/extra/2023-1_10Periodo/Poc_II/nbaiot/Philips_B120N10_Baby_Monitor/mirai_attacks/ack.csv', encoding = \"utf-8\", sep = ',' ) \n",
    "df_pb_mirai_ack = pb_mirai_ack.copy(deep=True)\n",
    "df_pb_mirai_ack = pd.DataFrame(df_pb_mirai_ack, columns = chosen_columns)\n",
    "\n",
    "pb_mirai_scan = pd.read_csv('/mnt/extra/2023-1_10Periodo/Poc_II/nbaiot/Philips_B120N10_Baby_Monitor/mirai_attacks/scan.csv', encoding = \"utf-8\", sep = ',' ) \n",
    "df_pb_mirai_scan = pb_mirai_scan.copy(deep=True)\n",
    "df_pb_mirai_scan = pd.DataFrame(df_pb_mirai_scan, columns = chosen_columns)\n",
    "\n",
    "pb_mirai_syn = pd.read_csv('/mnt/extra/2023-1_10Periodo/Poc_II/nbaiot/Philips_B120N10_Baby_Monitor/mirai_attacks/syn.csv', encoding = \"utf-8\", sep = ',' ) \n",
    "df_pb_mirai_syn = pb_mirai_syn.copy(deep=True)\n",
    "df_pb_mirai_syn = pd.DataFrame(df_pb_mirai_syn, columns = chosen_columns)\n",
    "\n",
    "pb_mirai_udp = pd.read_csv('/mnt/extra/2023-1_10Periodo/Poc_II/nbaiot/Philips_B120N10_Baby_Monitor/mirai_attacks/udp.csv', encoding = \"utf-8\", sep = ',' ) \n",
    "df_pb_mirai_udp = pb_mirai_udp.copy(deep=True)\n",
    "df_pb_mirai_udp = pd.DataFrame(df_pb_mirai_udp, columns = chosen_columns)\n",
    "\n",
    "pb_mirai_udpplain = pd.read_csv('/mnt/extra/2023-1_10Periodo/Poc_II/nbaiot/Philips_B120N10_Baby_Monitor/mirai_attacks/udpplain.csv', encoding = \"utf-8\", sep = ',' ) \n",
    "df_pb_mirai_udpplain = pb_mirai_udpplain.copy(deep=True)\n",
    "df_pb_mirai_udpplain = pd.DataFrame(df_pb_mirai_udpplain, columns = chosen_columns)\n",
    "\n",
    "# Bashlite\n",
    "\n",
    "pb_bashlite_combo = pd.read_csv('/mnt/extra/2023-1_10Periodo/Poc_II/nbaiot/Philips_B120N10_Baby_Monitor/gafgyt_attacks/combo.csv', encoding = \"utf-8\", sep = ',' ) \n",
    "df_pb_bashlite_combo = pb_bashlite_combo.copy(deep=True)\n",
    "df_pb_bashlite_combo = pd.DataFrame(df_pb_bashlite_combo, columns = chosen_columns)\n",
    "\n",
    "pb_bashlite_junk = pd.read_csv('/mnt/extra/2023-1_10Periodo/Poc_II/nbaiot/Philips_B120N10_Baby_Monitor/gafgyt_attacks/junk.csv', encoding = \"utf-8\", sep = ',' ) \n",
    "df_pb_bashlite_junk = pb_bashlite_junk.copy(deep=True)\n",
    "df_pb_bashlite_junk = pd.DataFrame(df_pb_bashlite_junk, columns = chosen_columns)\n",
    "\n",
    "pb_bashlite_scan = pd.read_csv('/mnt/extra/2023-1_10Periodo/Poc_II/nbaiot/Philips_B120N10_Baby_Monitor/gafgyt_attacks/scan.csv', encoding = \"utf-8\", sep = ',' ) \n",
    "df_pb_bashlite_scan = pb_bashlite_scan.copy(deep=True)\n",
    "df_pb_bashlite_scan = pd.DataFrame(df_pb_bashlite_scan, columns = chosen_columns)\n",
    "\n",
    "pb_bashlite_udp = pd.read_csv('/mnt/extra/2023-1_10Periodo/Poc_II/nbaiot/Philips_B120N10_Baby_Monitor/gafgyt_attacks/udp.csv', encoding = \"utf-8\", sep = ',' ) \n",
    "df_pb_bashlite_udp = pb_bashlite_udp.copy(deep=True)\n",
    "df_pb_bashlite_udp = pd.DataFrame(df_pb_bashlite_udp, columns = chosen_columns)\n",
    "\n",
    "pb_bashlite_tcp = pd.read_csv('/mnt/extra/2023-1_10Periodo/Poc_II/nbaiot/Philips_B120N10_Baby_Monitor/gafgyt_attacks/tcp.csv', encoding = \"utf-8\", sep = ',' ) \n",
    "df_pb_bashlite_tcp = pb_bashlite_tcp.copy(deep=True)\n",
    "df_pb_bashlite_tcp = pd.DataFrame(df_pb_bashlite_tcp, columns = chosen_columns)"
   ]
  },
  {
   "cell_type": "code",
   "execution_count": 10,
   "metadata": {
    "id": "Dkm1XPe3uBXq"
   },
   "outputs": [],
   "source": [
    "df_pb_benign_norm = scaler.fit_transform(df_pb_benign)\n",
    "\n",
    "df_pb_miraiack_norm = scaler.fit_transform(df_pb_mirai_ack)\n",
    "df_pb_miraiscan_norm = scaler.fit_transform(df_pb_mirai_scan)\n",
    "df_pb_miraisyn_norm = scaler.fit_transform(df_pb_mirai_syn)\n",
    "df_pb_miraiudp_norm = scaler.fit_transform(df_pb_mirai_udp)\n",
    "df_pb_miraiudpplain_norm = scaler.fit_transform(df_pb_mirai_udpplain)\n",
    "\n",
    "df_pb_bashlitecombo_norm = scaler.fit_transform(df_pb_bashlite_combo)\n",
    "df_pb_bashlitejunk_norm = scaler.fit_transform(df_pb_bashlite_junk)\n",
    "df_pb_bashlitescan_norm = scaler.fit_transform(df_pb_bashlite_scan)\n",
    "df_pb_bashliteudp_norm = scaler.fit_transform(df_pb_bashlite_udp)\n",
    "df_pb_bashlitetcp_norm = scaler.fit_transform(df_pb_bashlite_tcp)"
   ]
  },
  {
   "cell_type": "markdown",
   "metadata": {
    "id": "bCEpmRIDEHNr"
   },
   "source": [
    "## 2.5 Security Camera"
   ]
  },
  {
   "cell_type": "code",
   "execution_count": 11,
   "metadata": {
    "id": "CogjUDoMEG_n"
   },
   "outputs": [],
   "source": [
    "# Benign traffic\n",
    "\n",
    "p7_benign = pd.read_csv('/mnt/extra/2023-1_10Periodo/Poc_II/nbaiot/Provision_PT_737E_Security_Camera/benign_traffic.csv', encoding = \"utf-8\", sep = ',' ) \n",
    "df_p7_benign = p7_benign.copy(deep=True)\n",
    "df_p7_benign = pd.DataFrame(df_p7_benign, columns = chosen_columns)    \n",
    "\n",
    "# Mirai\n",
    "\n",
    "p7_mirai_ack = pd.read_csv('/mnt/extra/2023-1_10Periodo/Poc_II/nbaiot/Provision_PT_737E_Security_Camera/mirai_attacks/ack.csv', encoding = \"utf-8\", sep = ',' ) \n",
    "df_p7_mirai_ack = p7_mirai_ack.copy(deep=True)\n",
    "df_p7_mirai_ack = pd.DataFrame(df_p7_mirai_ack, columns = chosen_columns)  \n",
    "\n",
    "p7_mirai_scan = pd.read_csv('/mnt/extra/2023-1_10Periodo/Poc_II/nbaiot/Provision_PT_737E_Security_Camera/mirai_attacks/scan.csv', encoding = \"utf-8\", sep = ',' ) \n",
    "df_p7_mirai_scan = p7_mirai_scan.copy(deep=True)\n",
    "df_p7_mirai_scan = pd.DataFrame(df_p7_mirai_scan, columns = chosen_columns)\n",
    "\n",
    "p7_mirai_syn = pd.read_csv('/mnt/extra/2023-1_10Periodo/Poc_II/nbaiot/Provision_PT_737E_Security_Camera/mirai_attacks/syn.csv', encoding = \"utf-8\", sep = ',' ) \n",
    "df_p7_mirai_syn = p7_mirai_syn.copy(deep=True)\n",
    "df_p7_mirai_syn = pd.DataFrame(df_p7_mirai_syn, columns = chosen_columns)\n",
    "\n",
    "p7_mirai_udp = pd.read_csv('/mnt/extra/2023-1_10Periodo/Poc_II/nbaiot/Provision_PT_737E_Security_Camera/mirai_attacks/udp.csv', encoding = \"utf-8\", sep = ',' ) \n",
    "df_p7_mirai_udp = p7_mirai_udp.copy(deep=True)\n",
    "df_p7_mirai_udp = pd.DataFrame(df_p7_mirai_udp, columns = chosen_columns)\n",
    "\n",
    "p7_mirai_udpplain = pd.read_csv('/mnt/extra/2023-1_10Periodo/Poc_II/nbaiot/Provision_PT_737E_Security_Camera/mirai_attacks/udpplain.csv', encoding = \"utf-8\", sep = ',' ) \n",
    "df_p7_mirai_udpplain = p7_mirai_udpplain.copy(deep=True)\n",
    "df_p7_mirai_udpplain = pd.DataFrame(df_p7_mirai_udpplain, columns = chosen_columns)\n",
    "\n",
    "# Bashlite\n",
    "\n",
    "p7_bashlite_combo = pd.read_csv('/mnt/extra/2023-1_10Periodo/Poc_II/nbaiot/Provision_PT_737E_Security_Camera/gafgyt_attacks/combo.csv', encoding = \"utf-8\", sep = ',' ) \n",
    "df_p7_bashlite_combo = p7_bashlite_combo.copy(deep=True)\n",
    "df_p7_bashlite_combo = pd.DataFrame(df_p7_bashlite_combo, columns = chosen_columns)\n",
    "\n",
    "p7_bashlite_junk = pd.read_csv('/mnt/extra/2023-1_10Periodo/Poc_II/nbaiot/Provision_PT_737E_Security_Camera/gafgyt_attacks/junk.csv', encoding = \"utf-8\", sep = ',' ) \n",
    "df_p7_bashlite_junk = p7_bashlite_junk.copy(deep=True)\n",
    "df_p7_bashlite_junk = pd.DataFrame(df_p7_bashlite_junk, columns = chosen_columns)\n",
    "\n",
    "p7_bashlite_scan = pd.read_csv('/mnt/extra/2023-1_10Periodo/Poc_II/nbaiot/Provision_PT_737E_Security_Camera/gafgyt_attacks/scan.csv', encoding = \"utf-8\", sep = ',' ) \n",
    "df_p7_bashlite_scan = p7_bashlite_scan.copy(deep=True)\n",
    "df_p7_bashlite_scan = pd.DataFrame(df_p7_bashlite_scan, columns = chosen_columns)\n",
    "\n",
    "p7_bashlite_udp = pd.read_csv('/mnt/extra/2023-1_10Periodo/Poc_II/nbaiot/Provision_PT_737E_Security_Camera/gafgyt_attacks/udp.csv', encoding = \"utf-8\", sep = ',' ) \n",
    "df_p7_bashlite_udp = p7_bashlite_udp.copy(deep=True)\n",
    "df_p7_bashlite_udp = pd.DataFrame(df_p7_bashlite_udp, columns = chosen_columns)\n",
    "\n",
    "p7_bashlite_tcp = pd.read_csv('/mnt/extra/2023-1_10Periodo/Poc_II/nbaiot/Provision_PT_737E_Security_Camera/gafgyt_attacks/tcp.csv', encoding = \"utf-8\", sep = ',' ) \n",
    "df_p7_bashlite_tcp = p7_bashlite_tcp.copy(deep=True)\n",
    "df_p7_bashlite_tcp = pd.DataFrame(df_p7_bashlite_tcp, columns = chosen_columns)"
   ]
  },
  {
   "cell_type": "code",
   "execution_count": 12,
   "metadata": {
    "id": "FQw3qeddELWy"
   },
   "outputs": [],
   "source": [
    "df_p7_benign_norm = scaler.fit_transform(df_p7_benign)\n",
    "\n",
    "df_p7_miraiack_norm = scaler.fit_transform(df_p7_mirai_ack)\n",
    "df_p7_miraiscan_norm = scaler.fit_transform(df_p7_mirai_scan)\n",
    "df_p7_miraisyn_norm = scaler.fit_transform(df_p7_mirai_syn)\n",
    "df_p7_miraiudp_norm = scaler.fit_transform(df_p7_mirai_udp)\n",
    "df_p7_miraiudpplain_norm = scaler.fit_transform(df_p7_mirai_udpplain)\n",
    "\n",
    "df_p7_bashlitecombo_norm = scaler.fit_transform(df_p7_bashlite_combo)\n",
    "df_p7_bashlitejunk_norm = scaler.fit_transform(df_p7_bashlite_junk)\n",
    "df_p7_bashlitescan_norm = scaler.fit_transform(df_p7_bashlite_scan)\n",
    "df_p7_bashliteudp_norm = scaler.fit_transform(df_p7_bashlite_udp)\n",
    "df_p7_bashlitetcp_norm = scaler.fit_transform(df_p7_bashlite_tcp)"
   ]
  },
  {
   "cell_type": "markdown",
   "metadata": {
    "id": "jiTqAhSVEbMW"
   },
   "source": [
    "## 2.6 Security Camera"
   ]
  },
  {
   "cell_type": "code",
   "execution_count": 13,
   "metadata": {
    "id": "btdZfxCjEbdB"
   },
   "outputs": [],
   "source": [
    "# Benign traffic\n",
    "\n",
    "p8_benign = pd.read_csv('/mnt/extra/2023-1_10Periodo/Poc_II/nbaiot/Provision_PT_838_Security_Camera/benign_traffic.csv', encoding = \"utf-8\", sep = ',' ) \n",
    "df_p8_benign = p8_benign.copy(deep=True)\n",
    "df_p8_benign = pd.DataFrame(df_p8_benign, columns = chosen_columns)  \n",
    "\n",
    "# Mirai\n",
    "\n",
    "p8_mirai_ack = pd.read_csv('/mnt/extra/2023-1_10Periodo/Poc_II/nbaiot/Provision_PT_838_Security_Camera/mirai_attacks/ack.csv', encoding = \"utf-8\", sep = ',' ) \n",
    "df_p8_mirai_ack = p8_mirai_ack.copy(deep=True)\n",
    "df_p8_mirai_ack = pd.DataFrame(df_p8_mirai_ack, columns = chosen_columns) \n",
    "\n",
    "p8_mirai_scan = pd.read_csv('/mnt/extra/2023-1_10Periodo/Poc_II/nbaiot/Provision_PT_838_Security_Camera/mirai_attacks/scan.csv', encoding = \"utf-8\", sep = ',' ) \n",
    "df_p8_mirai_scan = p8_mirai_scan.copy(deep=True)\n",
    "df_p8_mirai_scan = pd.DataFrame(df_p8_mirai_scan, columns = chosen_columns) \n",
    "\n",
    "p8_mirai_syn = pd.read_csv('/mnt/extra/2023-1_10Periodo/Poc_II/nbaiot/Provision_PT_838_Security_Camera/mirai_attacks/syn.csv', encoding = \"utf-8\", sep = ',' ) \n",
    "df_p8_mirai_syn = p8_mirai_syn.copy(deep=True)\n",
    "df_p8_mirai_syn = pd.DataFrame(df_p8_mirai_syn, columns = chosen_columns) \n",
    "\n",
    "p8_mirai_udp = pd.read_csv('/mnt/extra/2023-1_10Periodo/Poc_II/nbaiot/Provision_PT_838_Security_Camera/mirai_attacks/udp.csv', encoding = \"utf-8\", sep = ',' ) \n",
    "df_p8_mirai_udp = p8_mirai_udp.copy(deep=True)\n",
    "df_p8_mirai_udp = pd.DataFrame(df_p8_mirai_udp, columns = chosen_columns) \n",
    "\n",
    "p8_mirai_udpplain = pd.read_csv('/mnt/extra/2023-1_10Periodo/Poc_II/nbaiot/Provision_PT_838_Security_Camera/mirai_attacks/udpplain.csv', encoding = \"utf-8\", sep = ',' ) \n",
    "df_p8_mirai_udpplain = p8_mirai_udpplain.copy(deep=True)\n",
    "df_p8_mirai_udpplain = pd.DataFrame(df_p8_mirai_udpplain, columns = chosen_columns) \n",
    "\n",
    "# Bashlite\n",
    "\n",
    "p8_bashlite_combo = pd.read_csv('/mnt/extra/2023-1_10Periodo/Poc_II/nbaiot/Provision_PT_838_Security_Camera/gafgyt_attacks/combo.csv', encoding = \"utf-8\", sep = ',' ) \n",
    "df_p8_bashlite_combo = p8_bashlite_combo.copy(deep=True)\n",
    "df_p8_bashlite_combo = pd.DataFrame(df_p8_bashlite_combo, columns = chosen_columns) \n",
    "\n",
    "p8_bashlite_junk = pd.read_csv('/mnt/extra/2023-1_10Periodo/Poc_II/nbaiot/Provision_PT_838_Security_Camera/gafgyt_attacks/junk.csv', encoding = \"utf-8\", sep = ',' ) \n",
    "df_p8_bashlite_junk = p8_bashlite_junk.copy(deep=True)\n",
    "df_p8_bashlite_junk = pd.DataFrame(df_p8_bashlite_junk, columns = chosen_columns)\n",
    "\n",
    "p8_bashlite_scan = pd.read_csv('/mnt/extra/2023-1_10Periodo/Poc_II/nbaiot/Provision_PT_838_Security_Camera/gafgyt_attacks/scan.csv', encoding = \"utf-8\", sep = ',' ) \n",
    "df_p8_bashlite_scan = p8_bashlite_scan.copy(deep=True)\n",
    "df_p8_bashlite_scan = pd.DataFrame(df_p8_bashlite_scan, columns = chosen_columns)\n",
    "\n",
    "p8_bashlite_udp = pd.read_csv('/mnt/extra/2023-1_10Periodo/Poc_II/nbaiot/Provision_PT_838_Security_Camera/gafgyt_attacks/udp.csv', encoding = \"utf-8\", sep = ',' ) \n",
    "df_p8_bashlite_udp = p8_bashlite_udp.copy(deep=True)\n",
    "df_p8_bashlite_udp = pd.DataFrame(df_p8_bashlite_udp, columns = chosen_columns)\n",
    "\n",
    "p8_bashlite_tcp = pd.read_csv('/mnt/extra/2023-1_10Periodo/Poc_II/nbaiot/Provision_PT_838_Security_Camera/gafgyt_attacks/tcp.csv', encoding = \"utf-8\", sep = ',' ) \n",
    "df_p8_bashlite_tcp = p8_bashlite_tcp.copy(deep=True)\n",
    "df_p8_bashlite_tcp = pd.DataFrame(df_p8_bashlite_tcp, columns = chosen_columns)"
   ]
  },
  {
   "cell_type": "code",
   "execution_count": 14,
   "metadata": {
    "id": "dEYfJtuAEbar"
   },
   "outputs": [],
   "source": [
    "df_p8_benign_norm = scaler.fit_transform(df_p8_benign)\n",
    "\n",
    "df_p8_miraiack_norm = scaler.fit_transform(df_p8_mirai_ack)\n",
    "df_p8_miraiscan_norm = scaler.fit_transform(df_p8_mirai_scan)\n",
    "df_p8_miraisyn_norm = scaler.fit_transform(df_p8_mirai_syn)\n",
    "df_p8_miraiudp_norm = scaler.fit_transform(df_p8_mirai_udp)\n",
    "df_p8_miraiudpplain_norm = scaler.fit_transform(df_p8_mirai_udpplain)\n",
    "\n",
    "df_p8_bashlitecombo_norm = scaler.fit_transform(df_p8_bashlite_combo)\n",
    "df_p8_bashlitejunk_norm = scaler.fit_transform(df_p8_bashlite_junk)\n",
    "df_p8_bashlitescan_norm = scaler.fit_transform(df_p8_bashlite_scan)\n",
    "df_p8_bashliteudp_norm = scaler.fit_transform(df_p8_bashlite_udp)\n",
    "df_p8_bashlitetcp_norm = scaler.fit_transform(df_p8_bashlite_tcp)"
   ]
  },
  {
   "cell_type": "markdown",
   "metadata": {
    "id": "kwdaI9n6EsW0"
   },
   "source": [
    "## 2.7 Security Camera"
   ]
  },
  {
   "cell_type": "code",
   "execution_count": 15,
   "metadata": {
    "id": "pLyaq8j6Essb"
   },
   "outputs": [],
   "source": [
    "# Benign traffic\n",
    "\n",
    "s2_benign = pd.read_csv('/mnt/extra/2023-1_10Periodo/Poc_II/nbaiot/SimpleHome_XCS7_1002_WHT_Security_Camera/benign_traffic.csv', encoding = \"utf-8\", sep = ',' ) \n",
    "df_s2_benign = s2_benign.copy(deep=True)\n",
    "df_s2_benign = pd.DataFrame(df_s2_benign, columns = chosen_columns)  \n",
    "\n",
    "# Mirai\n",
    "\n",
    "s2_mirai_ack = pd.read_csv('/mnt/extra/2023-1_10Periodo/Poc_II/nbaiot/SimpleHome_XCS7_1002_WHT_Security_Camera/mirai_attacks/ack.csv', encoding = \"utf-8\", sep = ',' ) \n",
    "df_s2_mirai_ack = s2_mirai_ack.copy(deep=True)\n",
    "df_s2_mirai_ack = pd.DataFrame(df_s2_mirai_ack, columns = chosen_columns)\n",
    "\n",
    "s2_mirai_scan = pd.read_csv('/mnt/extra/2023-1_10Periodo/Poc_II/nbaiot/SimpleHome_XCS7_1002_WHT_Security_Camera/mirai_attacks/scan.csv', encoding = \"utf-8\", sep = ',' ) \n",
    "df_s2_mirai_scan = s2_mirai_scan.copy(deep=True)\n",
    "df_s2_mirai_scan = pd.DataFrame(df_s2_mirai_scan, columns = chosen_columns)\n",
    "\n",
    "s2_mirai_syn = pd.read_csv('/mnt/extra/2023-1_10Periodo/Poc_II/nbaiot/SimpleHome_XCS7_1002_WHT_Security_Camera/mirai_attacks/syn.csv', encoding = \"utf-8\", sep = ',' ) \n",
    "df_s2_mirai_syn = s2_mirai_syn.copy(deep=True)\n",
    "df_s2_mirai_syn = pd.DataFrame(df_s2_mirai_syn, columns = chosen_columns)\n",
    "\n",
    "s2_mirai_udp = pd.read_csv('/mnt/extra/2023-1_10Periodo/Poc_II/nbaiot/SimpleHome_XCS7_1002_WHT_Security_Camera/mirai_attacks/udp.csv', encoding = \"utf-8\", sep = ',' ) \n",
    "df_s2_mirai_udp = s2_mirai_udp.copy(deep=True)\n",
    "df_s2_mirai_udp = pd.DataFrame(df_s2_mirai_udp, columns = chosen_columns)\n",
    "\n",
    "s2_mirai_udpplain = pd.read_csv('/mnt/extra/2023-1_10Periodo/Poc_II/nbaiot/SimpleHome_XCS7_1002_WHT_Security_Camera/mirai_attacks/udpplain.csv', encoding = \"utf-8\", sep = ',' ) \n",
    "df_s2_mirai_udpplain = s2_mirai_udpplain.copy(deep=True)\n",
    "df_s2_mirai_udpplain = pd.DataFrame(df_s2_mirai_udpplain, columns = chosen_columns)\n",
    "\n",
    "# Bashlite\n",
    "\n",
    "s2_bashlite_combo = pd.read_csv('/mnt/extra/2023-1_10Periodo/Poc_II/nbaiot/SimpleHome_XCS7_1002_WHT_Security_Camera/gafgyt_attacks/combo.csv', encoding = \"utf-8\", sep = ',' ) \n",
    "df_s2_bashlite_combo = s2_bashlite_combo.copy(deep=True)\n",
    "df_s2_bashlite_combo = pd.DataFrame(df_s2_bashlite_combo, columns = chosen_columns)\n",
    "\n",
    "s2_bashlite_junk = pd.read_csv('/mnt/extra/2023-1_10Periodo/Poc_II/nbaiot/SimpleHome_XCS7_1002_WHT_Security_Camera/gafgyt_attacks/junk.csv', encoding = \"utf-8\", sep = ',' ) \n",
    "df_s2_bashlite_junk = s2_bashlite_junk.copy(deep=True)\n",
    "df_s2_bashlite_junk = pd.DataFrame(df_s2_bashlite_junk, columns = chosen_columns)\n",
    "\n",
    "s2_bashlite_scan = pd.read_csv('/mnt/extra/2023-1_10Periodo/Poc_II/nbaiot/SimpleHome_XCS7_1002_WHT_Security_Camera/gafgyt_attacks/scan.csv', encoding = \"utf-8\", sep = ',' ) \n",
    "df_s2_bashlite_scan = s2_bashlite_scan.copy(deep=True)\n",
    "df_s2_bashlite_scan = pd.DataFrame(df_s2_bashlite_scan, columns = chosen_columns)\n",
    "\n",
    "s2_bashlite_udp = pd.read_csv('/mnt/extra/2023-1_10Periodo/Poc_II/nbaiot/SimpleHome_XCS7_1002_WHT_Security_Camera/gafgyt_attacks/udp.csv', encoding = \"utf-8\", sep = ',' ) \n",
    "df_s2_bashlite_udp = s2_bashlite_udp.copy(deep=True)\n",
    "df_s2_bashlite_udp = pd.DataFrame(df_s2_bashlite_udp, columns = chosen_columns)\n",
    "\n",
    "s2_bashlite_tcp = pd.read_csv('/mnt/extra/2023-1_10Periodo/Poc_II/nbaiot/SimpleHome_XCS7_1002_WHT_Security_Camera/gafgyt_attacks/tcp.csv', encoding = \"utf-8\", sep = ',' ) \n",
    "df_s2_bashlite_tcp = s2_bashlite_tcp.copy(deep=True)\n",
    "df_s2_bashlite_tcp = pd.DataFrame(df_s2_bashlite_tcp, columns = chosen_columns)"
   ]
  },
  {
   "cell_type": "code",
   "execution_count": 16,
   "metadata": {
    "id": "rfZlJjPnEtHx"
   },
   "outputs": [],
   "source": [
    "df_s2_benign_norm = scaler.fit_transform(df_s2_benign)\n",
    "\n",
    "df_s2_miraiack_norm = scaler.fit_transform(df_s2_mirai_ack)\n",
    "df_s2_miraiscan_norm = scaler.fit_transform(df_s2_mirai_scan)\n",
    "df_s2_miraisyn_norm = scaler.fit_transform(df_s2_mirai_syn)\n",
    "df_s2_miraiudp_norm = scaler.fit_transform(df_s2_mirai_udp)\n",
    "df_s2_miraiudpplain_norm = scaler.fit_transform(df_s2_mirai_udpplain)\n",
    "\n",
    "df_s2_bashlitecombo_norm = scaler.fit_transform(df_s2_bashlite_combo)\n",
    "df_s2_bashlitejunk_norm = scaler.fit_transform(df_s2_bashlite_junk)\n",
    "df_s2_bashlitescan_norm = scaler.fit_transform(df_s2_bashlite_scan)\n",
    "df_s2_bashliteudp_norm = scaler.fit_transform(df_s2_bashlite_udp)\n",
    "df_s2_bashlitetcp_norm = scaler.fit_transform(df_s2_bashlite_tcp)"
   ]
  },
  {
   "cell_type": "markdown",
   "metadata": {
    "id": "cjix8YdaE95O"
   },
   "source": [
    "## 2.8 Security Camera"
   ]
  },
  {
   "cell_type": "code",
   "execution_count": 17,
   "metadata": {
    "id": "0d5xJSZ7E9d4"
   },
   "outputs": [],
   "source": [
    "# Benign traffic\n",
    "\n",
    "s3_benign = pd.read_csv('/mnt/extra/2023-1_10Periodo/Poc_II/nbaiot/SimpleHome_XCS7_1003_WHT_Security_Camera/benign_traffic.csv', encoding = \"utf-8\", sep = ',' ) \n",
    "df_s3_benign = s3_benign.copy(deep=True)\n",
    "df_s3_benign = pd.DataFrame(df_s3_benign, columns = chosen_columns)\n",
    "\n",
    "# Mirai\n",
    "\n",
    "s3_mirai_ack = pd.read_csv('/mnt/extra/2023-1_10Periodo/Poc_II/nbaiot/SimpleHome_XCS7_1003_WHT_Security_Camera/mirai_attacks/ack.csv', encoding = \"utf-8\", sep = ',' ) \n",
    "df_s3_mirai_ack = s3_mirai_ack.copy(deep=True)\n",
    "df_s3_mirai_ack = pd.DataFrame(df_s3_mirai_ack, columns = chosen_columns)\n",
    "\n",
    "s3_mirai_scan = pd.read_csv('/mnt/extra/2023-1_10Periodo/Poc_II/nbaiot/SimpleHome_XCS7_1003_WHT_Security_Camera/mirai_attacks/scan.csv', encoding = \"utf-8\", sep = ',' ) \n",
    "df_s3_mirai_scan = s3_mirai_scan.copy(deep=True)\n",
    "df_s3_mirai_scan = pd.DataFrame(df_s3_mirai_scan, columns = chosen_columns)\n",
    "\n",
    "s3_mirai_syn = pd.read_csv('/mnt/extra/2023-1_10Periodo/Poc_II/nbaiot/SimpleHome_XCS7_1003_WHT_Security_Camera/mirai_attacks/syn.csv', encoding = \"utf-8\", sep = ',' ) \n",
    "df_s3_mirai_syn = s3_mirai_syn.copy(deep=True)\n",
    "df_s3_mirai_syn = pd.DataFrame(df_s3_mirai_syn, columns = chosen_columns)\n",
    "\n",
    "s3_mirai_udp = pd.read_csv('/mnt/extra/2023-1_10Periodo/Poc_II/nbaiot/SimpleHome_XCS7_1003_WHT_Security_Camera/mirai_attacks/udp.csv', encoding = \"utf-8\", sep = ',' ) \n",
    "df_s3_mirai_udp = s3_mirai_udp.copy(deep=True)\n",
    "df_s3_mirai_udp = pd.DataFrame(df_s3_mirai_udp, columns = chosen_columns)\n",
    "\n",
    "s3_mirai_udpplain = pd.read_csv('/mnt/extra/2023-1_10Periodo/Poc_II/nbaiot/SimpleHome_XCS7_1003_WHT_Security_Camera/mirai_attacks/udpplain.csv', encoding = \"utf-8\", sep = ',' ) \n",
    "df_s3_mirai_udpplain = s3_mirai_udpplain.copy(deep=True)\n",
    "df_s3_mirai_udpplain = pd.DataFrame(df_s3_mirai_udpplain, columns = chosen_columns)\n",
    "\n",
    "# Bashlite\n",
    "\n",
    "s3_bashlite_combo = pd.read_csv('/mnt/extra/2023-1_10Periodo/Poc_II/nbaiot/SimpleHome_XCS7_1003_WHT_Security_Camera/gafgyt_attacks/combo.csv', encoding = \"utf-8\", sep = ',' ) \n",
    "df_s3_bashlite_combo = s3_bashlite_combo.copy(deep=True)\n",
    "df_s3_bashlite_combo = pd.DataFrame(df_s3_bashlite_combo, columns = chosen_columns)\n",
    "\n",
    "s3_bashlite_junk = pd.read_csv('/mnt/extra/2023-1_10Periodo/Poc_II/nbaiot/SimpleHome_XCS7_1003_WHT_Security_Camera/gafgyt_attacks/junk.csv', encoding = \"utf-8\", sep = ',' ) \n",
    "df_s3_bashlite_junk = s3_bashlite_junk.copy(deep=True)\n",
    "df_s3_bashlite_junk = pd.DataFrame(df_s3_bashlite_junk, columns = chosen_columns)\n",
    "\n",
    "s3_bashlite_scan = pd.read_csv('/mnt/extra/2023-1_10Periodo/Poc_II/nbaiot/SimpleHome_XCS7_1003_WHT_Security_Camera/gafgyt_attacks/scan.csv', encoding = \"utf-8\", sep = ',' ) \n",
    "df_s3_bashlite_scan = s3_bashlite_scan.copy(deep=True)\n",
    "df_s3_bashlite_scan = pd.DataFrame(df_s3_bashlite_scan, columns = chosen_columns)\n",
    "\n",
    "s3_bashlite_udp = pd.read_csv('/mnt/extra/2023-1_10Periodo/Poc_II/nbaiot/SimpleHome_XCS7_1003_WHT_Security_Camera/gafgyt_attacks/udp.csv', encoding = \"utf-8\", sep = ',' ) \n",
    "df_s3_bashlite_udp = s3_bashlite_udp.copy(deep=True)\n",
    "df_s3_bashlite_udp = pd.DataFrame(df_s3_bashlite_udp, columns = chosen_columns)\n",
    "\n",
    "s3_bashlite_tcp = pd.read_csv('/mnt/extra/2023-1_10Periodo/Poc_II/nbaiot/SimpleHome_XCS7_1003_WHT_Security_Camera/gafgyt_attacks/tcp.csv', encoding = \"utf-8\", sep = ',' ) \n",
    "df_s3_bashlite_tcp = s3_bashlite_tcp.copy(deep=True)\n",
    "df_s3_bashlite_tcp = pd.DataFrame(df_s3_bashlite_tcp, columns = chosen_columns)"
   ]
  },
  {
   "cell_type": "code",
   "execution_count": 18,
   "metadata": {
    "id": "Ht4Sg3NyFSFt"
   },
   "outputs": [],
   "source": [
    "df_s3_benign_norm = scaler.fit_transform(df_s3_benign)\n",
    "\n",
    "df_s3_miraiack_norm = scaler.fit_transform(df_s3_mirai_ack)\n",
    "df_s3_miraiscan_norm = scaler.fit_transform(df_s3_mirai_scan)\n",
    "df_s3_miraisyn_norm = scaler.fit_transform(df_s3_mirai_syn)\n",
    "df_s3_miraiudp_norm = scaler.fit_transform(df_s3_mirai_udp)\n",
    "df_s3_miraiudpplain_norm = scaler.fit_transform(df_s3_mirai_udpplain)\n",
    "\n",
    "df_s3_bashlitecombo_norm = scaler.fit_transform(df_s3_bashlite_combo)\n",
    "df_s3_bashlitejunk_norm = scaler.fit_transform(df_s3_bashlite_junk)\n",
    "df_s3_bashlitescan_norm = scaler.fit_transform(df_s3_bashlite_scan)\n",
    "df_s3_bashliteudp_norm = scaler.fit_transform(df_s3_bashlite_udp)\n",
    "df_s3_bashlitetcp_norm = scaler.fit_transform(df_s3_bashlite_tcp)"
   ]
  },
  {
   "cell_type": "markdown",
   "metadata": {
    "id": "v5iAtdvkE91E"
   },
   "source": [
    "## 2.9 Samsung Webcam"
   ]
  },
  {
   "cell_type": "code",
   "execution_count": 19,
   "metadata": {
    "id": "fkJpQ4biFT9P"
   },
   "outputs": [],
   "source": [
    "# Benign traffic\n",
    "\n",
    "sw_benign = pd.read_csv('/mnt/extra/2023-1_10Periodo/Poc_II/nbaiot/Samsung_SNH_1011_N_Webcam/benign_traffic.csv', encoding = \"utf-8\", sep = ',' ) \n",
    "df_sw_benign = sw_benign.copy(deep=True)\n",
    "df_sw_benign = pd.DataFrame(df_sw_benign, columns = chosen_columns)\n",
    "\n",
    "# Bashlite Only\n",
    "\n",
    "sw_bashlite_combo = pd.read_csv('/mnt/extra/2023-1_10Periodo/Poc_II/nbaiot/Samsung_SNH_1011_N_Webcam/gafgyt_attacks/combo.csv', encoding = \"utf-8\", sep = ',' ) \n",
    "df_sw_bashlite_combo = sw_bashlite_combo.copy(deep=True)\n",
    "df_sw_bashlite_combo = pd.DataFrame(df_sw_bashlite_combo, columns = chosen_columns)\n",
    "\n",
    "sw_bashlite_junk = pd.read_csv('/mnt/extra/2023-1_10Periodo/Poc_II/nbaiot/Samsung_SNH_1011_N_Webcam/gafgyt_attacks/junk.csv', encoding = \"utf-8\", sep = ',' ) \n",
    "df_sw_bashlite_junk = sw_bashlite_junk.copy(deep=True)\n",
    "df_sw_bashlite_junk = pd.DataFrame(df_sw_bashlite_junk, columns = chosen_columns)\n",
    "\n",
    "sw_bashlite_scan = pd.read_csv('/mnt/extra/2023-1_10Periodo/Poc_II/nbaiot/Samsung_SNH_1011_N_Webcam/gafgyt_attacks/scan.csv', encoding = \"utf-8\", sep = ',' ) \n",
    "df_sw_bashlite_scan = sw_bashlite_scan.copy(deep=True)\n",
    "df_sw_bashlite_scan = pd.DataFrame(df_sw_bashlite_scan, columns = chosen_columns)\n",
    "\n",
    "sw_bashlite_udp = pd.read_csv('/mnt/extra/2023-1_10Periodo/Poc_II/nbaiot/Samsung_SNH_1011_N_Webcam/gafgyt_attacks/udp.csv', encoding = \"utf-8\", sep = ',' ) \n",
    "df_sw_bashlite_udp = sw_bashlite_udp.copy(deep=True)\n",
    "df_sw_bashlite_udp = pd.DataFrame(df_sw_bashlite_udp, columns = chosen_columns)\n",
    "\n",
    "sw_bashlite_tcp = pd.read_csv('/mnt/extra/2023-1_10Periodo/Poc_II/nbaiot/Samsung_SNH_1011_N_Webcam/gafgyt_attacks/tcp.csv', encoding = \"utf-8\", sep = ',' ) \n",
    "df_sw_bashlite_tcp = sw_bashlite_tcp.copy(deep=True)\n",
    "df_sw_bashlite_tcp = pd.DataFrame(df_sw_bashlite_tcp, columns = chosen_columns)"
   ]
  },
  {
   "cell_type": "code",
   "execution_count": 20,
   "metadata": {
    "id": "yaWv2rj6FTtW"
   },
   "outputs": [],
   "source": [
    "df_sw_benign_norm = scaler.fit_transform(df_sw_benign)\n",
    "\n",
    "df_sw_bashlitecombo_norm = scaler.fit_transform(df_sw_bashlite_combo)\n",
    "df_sw_bashlitejunk_norm = scaler.fit_transform(df_sw_bashlite_junk)\n",
    "df_sw_bashlitescan_norm = scaler.fit_transform(df_sw_bashlite_scan)\n",
    "df_sw_bashliteudp_norm = scaler.fit_transform(df_sw_bashlite_udp)\n",
    "df_sw_bashlitetcp_norm = scaler.fit_transform(df_sw_bashlite_tcp)"
   ]
  },
  {
   "cell_type": "markdown",
   "metadata": {
    "id": "tPiRIxOVFlm8"
   },
   "source": [
    "# 3. Variational Autoencoder - Attack Detection"
   ]
  },
  {
   "cell_type": "markdown",
   "metadata": {
    "id": "LNh5918tGctl"
   },
   "source": [
    "## 3.1 Model"
   ]
  },
  {
   "cell_type": "code",
   "execution_count": 21,
   "metadata": {
    "id": "j4uxd8lPFjXt"
   },
   "outputs": [],
   "source": [
    "# Train set\n",
    "len_dd_benign_train = int(0.7 * len(df_dd_benign_norm))\n",
    "X_train_dd_benign = df_dd_benign_norm[:len_dd_benign_train]\n",
    "\n",
    "len_et_benign_train = int(0.7 * len(df_et_benign_norm))\n",
    "X_train_et_benign = df_et_benign_norm[:len_et_benign_train]\n",
    "\n",
    "len_ed_benign_train = int(0.7 * len(df_ed_benign_norm))\n",
    "X_train_ed_benign = df_ed_benign_norm[:len_ed_benign_train]\n",
    "\n",
    "len_pb_benign_train = int(0.7 * len(df_pb_benign_norm))\n",
    "X_train_pb_benign = df_pb_benign_norm[:len_pb_benign_train]\n",
    "\n",
    "len_p7_benign_train = int(0.7 * len(df_p7_benign_norm))\n",
    "X_train_p7_benign = df_p7_benign_norm[:len_p7_benign_train]\n",
    "\n",
    "len_p8_benign_train = int(0.7 * len(df_p8_benign_norm))\n",
    "X_train_p8_benign = df_p8_benign_norm[:len_p8_benign_train]\n",
    "\n",
    "len_s2_benign_train = int(0.7 * len(df_s2_benign_norm))\n",
    "X_train_s2_benign = df_s2_benign_norm[:len_s2_benign_train]\n",
    "\n",
    "len_s3_benign_train = int(0.7 * len(df_s3_benign_norm))\n",
    "X_train_s3_benign = df_s3_benign_norm[:len_s3_benign_train]\n",
    "\n",
    "len_sw_benign_train = int(0.7 * len(df_sw_benign_norm))\n",
    "X_train_sw_benign = df_sw_benign_norm[:len_sw_benign_train]\n",
    "\n",
    "X_train_VAE = np.concatenate([X_train_dd_benign, X_train_et_benign, X_train_ed_benign, X_train_pb_benign, X_train_p7_benign, \n",
    "                              X_train_p8_benign, X_train_s2_benign, X_train_s3_benign])\n",
    "\n",
    "# Test set - 30% benign and the rest is attack\n",
    "X_test_dd_benign = df_dd_benign_norm[len_dd_benign_train:]\n",
    "X_test_et_benign = df_et_benign_norm[len_et_benign_train:]\n",
    "X_test_ed_benign = df_ed_benign_norm[len_ed_benign_train:]\n",
    "X_test_pb_benign = df_pb_benign_norm[len_pb_benign_train:]\n",
    "X_test_p7_benign = df_p7_benign_norm[len_p7_benign_train:]\n",
    "X_test_p8_benign = df_p8_benign_norm[len_p8_benign_train:]\n",
    "X_test_s2_benign = df_s2_benign_norm[len_s2_benign_train:]\n",
    "X_test_s3_benign = df_s3_benign_norm[len_s3_benign_train:]\n",
    "X_test_sw_benign = df_sw_benign_norm[len_sw_benign_train:]\n",
    "\n",
    "X_test_benign = np.concatenate([X_test_dd_benign, X_test_et_benign, X_test_ed_benign, X_test_pb_benign, X_test_p7_benign, \n",
    "                                X_test_p8_benign, X_test_s2_benign, X_test_s3_benign, X_test_sw_benign])\n",
    "\n",
    "# 30% benign + attacks\n",
    "X_test_VAE = np.concatenate([X_test_benign,\n",
    "                             df_dd_miraiack_norm, df_dd_miraiscan_norm, df_dd_miraisyn_norm, df_dd_miraiudp_norm, df_dd_miraiudpplain_norm,\n",
    "                             df_dd_bashlitecombo_norm, df_dd_bashlitejunk_norm, df_dd_bashlitescan_norm, df_dd_bashliteudp_norm, df_dd_bashlitetcp_norm,\n",
    "                             df_et_miraiack_norm, df_et_miraiscan_norm, df_et_miraisyn_norm, df_et_miraiudp_norm, df_et_miraiudpplain_norm,\n",
    "                             df_et_bashlitecombo_norm, df_et_bashlitejunk_norm, df_et_bashlitescan_norm, df_et_bashliteudp_norm, df_et_bashlitetcp_norm,\n",
    "                             df_ed_bashlitecombo_norm, df_ed_bashlitejunk_norm, df_ed_bashlitescan_norm, df_ed_bashliteudp_norm, df_ed_bashlitetcp_norm,\n",
    "                             df_pb_miraiack_norm, df_pb_miraiscan_norm, df_pb_miraisyn_norm, df_pb_miraiudp_norm, df_pb_miraiudpplain_norm,\n",
    "                             df_pb_bashlitecombo_norm, df_pb_bashlitejunk_norm, df_pb_bashlitescan_norm, df_pb_bashliteudp_norm, df_pb_bashlitetcp_norm,\n",
    "                             df_p7_miraiack_norm, df_p7_miraiscan_norm, df_p7_miraisyn_norm, df_p7_miraiudp_norm, df_p7_miraiudpplain_norm,\n",
    "                             df_p7_bashlitecombo_norm, df_p7_bashlitejunk_norm, df_p7_bashlitescan_norm, df_p7_bashliteudp_norm, df_p7_bashlitetcp_norm,\n",
    "                             df_p8_miraiack_norm, df_p8_miraiscan_norm, df_p8_miraisyn_norm, df_p8_miraiudp_norm, df_p8_miraiudpplain_norm,\n",
    "                             df_p8_bashlitecombo_norm, df_p8_bashlitejunk_norm, df_p8_bashlitescan_norm, df_p8_bashliteudp_norm, df_p8_bashlitetcp_norm,\n",
    "                             df_s2_miraiack_norm, df_s2_miraiscan_norm, df_s2_miraisyn_norm, df_s2_miraiudp_norm, df_s2_miraiudpplain_norm,\n",
    "                             df_s2_bashlitecombo_norm, df_s2_bashlitejunk_norm, df_s2_bashlitescan_norm, df_s2_bashliteudp_norm, df_s2_bashlitetcp_norm,\n",
    "                             df_s3_miraiack_norm, df_s3_miraiscan_norm, df_s3_miraisyn_norm, df_s3_miraiudp_norm, df_s3_miraiudpplain_norm,\n",
    "                             df_s3_bashlitecombo_norm, df_s3_bashlitejunk_norm, df_s3_bashlitescan_norm, df_s3_bashliteudp_norm, df_s3_bashlitetcp_norm,\n",
    "                             df_sw_bashlitecombo_norm, df_sw_bashlitejunk_norm, df_sw_bashlitescan_norm, df_sw_bashliteudp_norm, df_sw_bashlitetcp_norm])\n",
    "\n",
    "Y_test_VAE = np.ones(len(X_test_VAE))\n",
    "Y_test_VAE[:len(X_test_benign)] = 0"
   ]
  },
  {
   "cell_type": "code",
   "execution_count": 22,
   "metadata": {},
   "outputs": [
    {
     "data": {
      "text/plain": [
       "((352643, 23), (6673458, 23), (6673458,))"
      ]
     },
     "execution_count": 22,
     "metadata": {},
     "output_type": "execute_result"
    }
   ],
   "source": [
    "X_train_VAE.shape, X_test_VAE.shape, Y_test_VAE.shape"
   ]
  },
  {
   "cell_type": "code",
   "execution_count": 23,
   "metadata": {
    "id": "fGYxS9zRFjVX"
   },
   "outputs": [],
   "source": [
    "# KL Loss function\n",
    "def vae_loss(x, x_decoded_mean):\n",
    "    # Compute the average MSE error, then scale it up (sum on all axes)\n",
    "    reconstruction_loss = K.sum(K.square(x - x_decoded_mean))\n",
    "    \n",
    "    # Compute the KL loss\n",
    "    kl_loss = - 0.5 * K.sum(1 + z_var - K.square(z_mean) - K.square(K.exp(z_var)), axis=-1)\n",
    "    \n",
    "    # Return the average loss over all  \n",
    "    total_loss = K.mean(reconstruction_loss + kl_loss) # Total_loss = reconstruction_loss + kl_loss \n",
    "    \n",
    "    return total_loss\n",
    "\n",
    "# (1) Reconstruction Loss - Forces the encoder to generate latent features that minimize the reconstruction error, or else is penalized\n",
    "# (2) KL Loss - Forces the distribution generated by the encoder to be similar to the prior probability of the input vector, pushing latent feature space to normality"
   ]
  },
  {
   "cell_type": "code",
   "execution_count": 24,
   "metadata": {
    "id": "0ZnIjY9HNNmk"
   },
   "outputs": [],
   "source": [
    "# Parameters\n",
    "original_dim = X_train_VAE.shape[1]\n",
    "input_shape = (original_dim,)\n",
    "intermediate_dim = int(original_dim / 2)\n",
    "latent_dim = int(original_dim / 3)\n",
    "\n",
    "epochs = 100\n",
    "learning_rate = 0.0001          # learning rate\n",
    "batch_size = 40\n",
    "anomaly_threshold = 0.05\n",
    "number_features = 23\n",
    "\n",
    "history_filename = 'history.json'"
   ]
  },
  {
   "cell_type": "code",
   "execution_count": 25,
   "metadata": {
    "id": "wYhKi-s5RUX0"
   },
   "outputs": [],
   "source": [
    "# Encoder Model\n",
    "\n",
    "# The encoder learns a function that takes an input array of size n and can generate two vectors that represents the\n",
    "# parameters (mean and variance) of a distribution from which the latent vector is sampled.\n",
    "\n",
    "# encoder(input_vector[]) => latent_v_mu[], latent_v_lvar[]\n",
    "# So that - latent_v[0] ~  N(latent_v_mu[0], latent_v_lvar[0])\n",
    "# and latent_v[1] ~  N(latent_v_mu[1], latent_v_lvar[1])\n",
    "\n",
    "def vae_encoder(input_shape, intermediate_dim, latent_dim, sample):\n",
    "    inputs = Input(shape = input_shape, name = 'encoder_input')\n",
    "    x = Dense(intermediate_dim, activation = 'relu')(inputs)\n",
    "\n",
    "    z_mean = Dense(latent_dim, name = 'z_mean')(x)\n",
    "    z_var = Dense(latent_dim, name = 'z_var')(x)\n",
    "    z = Lambda(sample, output_shape = (latent_dim,), name = 'z')([z_mean, z_var])\n",
    "\n",
    "    encoder = Model(inputs, z, name = 'encoder')\n",
    "    return inputs, encoder, z_var, z_mean\n",
    "\n",
    "# Reparameterization trick\n",
    "def sample(args):\n",
    "    z_mean, z_var = args\n",
    "    batch = K.shape(z_mean)[0]\n",
    "    dim = K.int_shape(z_mean)[1]\n",
    "    epsilon = K.random_normal(shape = (batch, dim))\n",
    "    \n",
    "    return z_mean + K.exp(0.5 * z_var) * epsilon\n",
    "\n",
    "# Sample the normally distributed z - mean + sigma * epsilon. The epsilon ensures the continuity of latent space and helps\n",
    "# the network to keep correcting its parameters through backpropagation\n",
    "\n",
    "# Decoder model\n",
    "def vae_decoder(intermediate_dim, latent_dim, original_dim):\n",
    "    latent_inputs = Input(shape = (latent_dim,), name = 'z_sampling')\n",
    "    x = Dense(intermediate_dim, activation = 'relu')(latent_inputs)\n",
    "    outputs = Dense(original_dim, activation = 'sigmoid')(x)\n",
    "\n",
    "    # Instantiate the decoder model\n",
    "    decoder = Model(latent_inputs, outputs, name = 'decoder')\n",
    "\n",
    "    return decoder\n",
    "\n",
    "# Transforms the latent feature space composed by distributions of mean and variance back to the original input vector\n",
    "\n",
    "# Get error term\n",
    "def get_error_term(v1, v2, _rmse = True):\n",
    "    if _rmse:\n",
    "        return np.sqrt(np.mean((v1 - v2) ** 2, axis = 1))\n",
    "    \n",
    "    return np.mean(abs(v1 - v2), axis = 1)\n",
    "\n",
    "# Calculates the error between the original vector and the predicted one\n",
    "\n",
    "def saveHist(path, history):\n",
    "    with codecs.open(path, 'w', encoding='utf-8') as f:\n",
    "        json.dump(history, f, separators=(',', ':'), sort_keys=True, indent=4) \n",
    "\n",
    "def loadHist(path):\n",
    "    n = {} # set history to empty\n",
    "    if os.path.exists(path): # reload history if it exists\n",
    "        with codecs.open(path, 'r', encoding='utf-8') as f:\n",
    "            n = json.loads(f.read())\n",
    "    return n\n",
    "\n",
    "def appendHist(h1, h2):\n",
    "    if h1 == {}:\n",
    "        return h2\n",
    "    else:\n",
    "        dest = {}\n",
    "        for key, value in h1.items():\n",
    "            dest[key] = value + h2[key]\n",
    "        return dest"
   ]
  },
  {
   "cell_type": "code",
   "execution_count": 26,
   "metadata": {
    "colab": {
     "base_uri": "https://localhost:8080/"
    },
    "id": "9NGovo1cxQcw",
    "outputId": "9369ae54-3a70-4a04-9928-345bf2e403cd"
   },
   "outputs": [
    {
     "name": "stdout",
     "output_type": "stream",
     "text": [
      "Model: \"encoder\"\n",
      "__________________________________________________________________________________________________\n",
      " Layer (type)                   Output Shape         Param #     Connected to                     \n",
      "==================================================================================================\n",
      " encoder_input (InputLayer)     [(None, 23)]         0           []                               \n",
      "                                                                                                  \n",
      " dense (Dense)                  (None, 11)           264         ['encoder_input[0][0]']          \n",
      "                                                                                                  \n",
      " z_mean (Dense)                 (None, 7)            84          ['dense[0][0]']                  \n",
      "                                                                                                  \n",
      " z_var (Dense)                  (None, 7)            84          ['dense[0][0]']                  \n",
      "                                                                                                  \n",
      " z (Lambda)                     (None, 7)            0           ['z_mean[0][0]',                 \n",
      "                                                                  'z_var[0][0]']                  \n",
      "                                                                                                  \n",
      "==================================================================================================\n",
      "Total params: 432\n",
      "Trainable params: 432\n",
      "Non-trainable params: 0\n",
      "__________________________________________________________________________________________________\n"
     ]
    }
   ],
   "source": [
    "# Encoder\n",
    "inputs, encoder, z_var, z_mean = vae_encoder(\n",
    "    input_shape, \n",
    "    intermediate_dim, \n",
    "    latent_dim, \n",
    "    sample)\n",
    "\n",
    "encoder.summary()"
   ]
  },
  {
   "cell_type": "code",
   "execution_count": 27,
   "metadata": {
    "colab": {
     "base_uri": "https://localhost:8080/"
    },
    "id": "MPizJcqGxQa8",
    "outputId": "73659976-fa77-4ecc-dece-c767228ac278"
   },
   "outputs": [
    {
     "name": "stdout",
     "output_type": "stream",
     "text": [
      "Model: \"decoder\"\n",
      "_________________________________________________________________\n",
      " Layer (type)                Output Shape              Param #   \n",
      "=================================================================\n",
      " z_sampling (InputLayer)     [(None, 7)]               0         \n",
      "                                                                 \n",
      " dense_1 (Dense)             (None, 11)                88        \n",
      "                                                                 \n",
      " dense_2 (Dense)             (None, 23)                276       \n",
      "                                                                 \n",
      "=================================================================\n",
      "Total params: 364\n",
      "Trainable params: 364\n",
      "Non-trainable params: 0\n",
      "_________________________________________________________________\n"
     ]
    }
   ],
   "source": [
    "# Decoder\n",
    "decoder = vae_decoder(\n",
    "    intermediate_dim,\n",
    "    latent_dim,\n",
    "    original_dim)\n",
    "\n",
    "decoder.summary()"
   ]
  },
  {
   "cell_type": "code",
   "execution_count": 28,
   "metadata": {
    "colab": {
     "base_uri": "https://localhost:8080/"
    },
    "id": "9nA9gDhjxQZH",
    "outputId": "7967d8af-6ef5-4997-e52c-7f354dd34c14"
   },
   "outputs": [
    {
     "name": "stdout",
     "output_type": "stream",
     "text": [
      "Model: \"vae_mlp\"\n",
      "_________________________________________________________________\n",
      " Layer (type)                Output Shape              Param #   \n",
      "=================================================================\n",
      " encoder_input (InputLayer)  [(None, 23)]              0         \n",
      "                                                                 \n",
      " encoder (Functional)        (None, 7)                 432       \n",
      "                                                                 \n",
      " decoder (Functional)        (None, 23)                364       \n",
      "                                                                 \n",
      "=================================================================\n",
      "Total params: 796\n",
      "Trainable params: 796\n",
      "Non-trainable params: 0\n",
      "_________________________________________________________________\n"
     ]
    }
   ],
   "source": [
    "# VAE model\n",
    "outputs = decoder(encoder(inputs))\n",
    "\n",
    "opt = tf.keras.optimizers.legacy.Adam(learning_rate = learning_rate, clipvalue = 0.5)\n",
    "\n",
    "vae_model = Model(inputs, outputs, name = 'vae_mlp')\n",
    "vae_model.compile(optimizer = opt, loss = vae_loss) # , experimental_run_tf_function=False\n",
    "\n",
    "vae_model.summary()"
   ]
  },
  {
   "cell_type": "markdown",
   "metadata": {
    "id": "baSYMJ6FzkVi"
   },
   "source": [
    "## 3.2 Train"
   ]
  },
  {
   "cell_type": "code",
   "execution_count": 29,
   "metadata": {
    "colab": {
     "base_uri": "https://localhost:8080/"
    },
    "id": "W1SumrRWxQWg",
    "outputId": "9b885256-e5f0-4cc8-d932-c9a24f1e7d22",
    "scrolled": true
   },
   "outputs": [
    {
     "name": "stdout",
     "output_type": "stream",
     "text": [
      "Train on 352643 samples\n",
      "Epoch 1/100\n"
     ]
    },
    {
     "name": "stderr",
     "output_type": "stream",
     "text": [
      "2023-05-17 12:29:26.053626: E tensorflow/compiler/xla/stream_executor/cuda/cuda_driver.cc:266] failed call to cuInit: CUDA_ERROR_NO_DEVICE: no CUDA-capable device is detected\n",
      "2023-05-17 12:29:26.053666: I tensorflow/compiler/xla/stream_executor/cuda/cuda_diagnostics.cc:168] retrieving CUDA diagnostic information for host: pop-os\n",
      "2023-05-17 12:29:26.053676: I tensorflow/compiler/xla/stream_executor/cuda/cuda_diagnostics.cc:175] hostname: pop-os\n",
      "2023-05-17 12:29:26.053775: I tensorflow/compiler/xla/stream_executor/cuda/cuda_diagnostics.cc:199] libcuda reported version is: 525.105.17\n",
      "2023-05-17 12:29:26.053808: I tensorflow/compiler/xla/stream_executor/cuda/cuda_diagnostics.cc:203] kernel reported version is: 525.105.17\n",
      "2023-05-17 12:29:26.053815: I tensorflow/compiler/xla/stream_executor/cuda/cuda_diagnostics.cc:309] kernel version seems to match DSO: 525.105.17\n",
      "2023-05-17 12:29:26.075203: I tensorflow/compiler/mlir/mlir_graph_optimization_pass.cc:353] MLIR V1 optimization pass is not enabled\n",
      "2023-05-17 12:29:26.111365: W tensorflow/c/c_api.cc:300] Operation '{name:'training/Adam/z_var/bias/v/Assign' id:501 op device:{requested: '', assigned: ''} def:{{{node training/Adam/z_var/bias/v/Assign}} = AssignVariableOp[_has_manual_control_dependencies=true, dtype=DT_FLOAT, validate_shape=false](training/Adam/z_var/bias/v, training/Adam/z_var/bias/v/Initializer/zeros)}}' was changed by setting attribute after it was run by a session. This mutation will have no effect, and will trigger an error in the future. Either don't modify nodes after running them or create a new session.\n"
     ]
    },
    {
     "name": "stdout",
     "output_type": "stream",
     "text": [
      "352643/352643 [==============================] - 9s 27us/sample - loss: 34.6176\n",
      "Epoch 2/100\n",
      "352643/352643 [==============================] - 9s 26us/sample - loss: 9.0601\n",
      "Epoch 3/100\n",
      "352643/352643 [==============================] - 9s 25us/sample - loss: 7.6681\n",
      "Epoch 4/100\n",
      "352643/352643 [==============================] - 9s 25us/sample - loss: 6.7238\n",
      "Epoch 5/100\n",
      "352643/352643 [==============================] - 9s 25us/sample - loss: 6.0911\n",
      "Epoch 6/100\n",
      "352643/352643 [==============================] - 9s 25us/sample - loss: 5.7676\n",
      "Epoch 7/100\n",
      "352643/352643 [==============================] - 9s 25us/sample - loss: 5.5763\n",
      "Epoch 8/100\n",
      "352643/352643 [==============================] - 9s 26us/sample - loss: 5.4408\n",
      "Epoch 9/100\n",
      "352643/352643 [==============================] - 9s 25us/sample - loss: 5.3258\n",
      "Epoch 10/100\n",
      "352643/352643 [==============================] - 9s 25us/sample - loss: 5.2470\n",
      "Epoch 11/100\n",
      "352643/352643 [==============================] - 9s 25us/sample - loss: 5.1649\n",
      "Epoch 12/100\n",
      "352643/352643 [==============================] - 9s 25us/sample - loss: 5.0778\n",
      "Epoch 13/100\n",
      "352643/352643 [==============================] - 9s 26us/sample - loss: 5.0129\n",
      "Epoch 14/100\n",
      "352643/352643 [==============================] - 9s 25us/sample - loss: 4.9532\n",
      "Epoch 15/100\n",
      "352643/352643 [==============================] - 9s 26us/sample - loss: 4.9143\n",
      "Epoch 16/100\n",
      "352643/352643 [==============================] - 9s 25us/sample - loss: 4.8839\n",
      "Epoch 17/100\n",
      "352643/352643 [==============================] - 9s 25us/sample - loss: 4.8494\n",
      "Epoch 18/100\n",
      "352643/352643 [==============================] - 9s 25us/sample - loss: 4.8350\n",
      "Epoch 19/100\n",
      "352643/352643 [==============================] - 9s 25us/sample - loss: 4.8243\n",
      "Epoch 20/100\n",
      "352643/352643 [==============================] - 9s 25us/sample - loss: 4.8090\n",
      "Epoch 21/100\n",
      "352643/352643 [==============================] - 9s 25us/sample - loss: 4.7962\n",
      "Epoch 22/100\n",
      "352643/352643 [==============================] - 9s 25us/sample - loss: 4.7861\n",
      "Epoch 23/100\n",
      "352643/352643 [==============================] - 9s 25us/sample - loss: 4.7756\n",
      "Epoch 24/100\n",
      "352643/352643 [==============================] - 9s 25us/sample - loss: 4.7653\n",
      "Epoch 25/100\n",
      "352643/352643 [==============================] - 9s 25us/sample - loss: 4.7564\n",
      "Epoch 26/100\n",
      "352643/352643 [==============================] - 9s 25us/sample - loss: 4.7501\n",
      "Epoch 27/100\n",
      "352643/352643 [==============================] - 9s 25us/sample - loss: 4.7546\n",
      "Epoch 28/100\n",
      "352643/352643 [==============================] - 9s 26us/sample - loss: 4.7459\n",
      "Epoch 29/100\n",
      "352643/352643 [==============================] - 9s 26us/sample - loss: 4.7373\n",
      "Epoch 30/100\n",
      "352643/352643 [==============================] - 9s 26us/sample - loss: 4.7346\n",
      "Epoch 31/100\n",
      "352643/352643 [==============================] - 9s 25us/sample - loss: 4.7322\n",
      "Epoch 32/100\n",
      "352643/352643 [==============================] - 9s 25us/sample - loss: 4.7271\n",
      "Epoch 33/100\n",
      "352643/352643 [==============================] - 9s 25us/sample - loss: 4.7122\n",
      "Epoch 34/100\n",
      "352643/352643 [==============================] - 9s 25us/sample - loss: 4.7132\n",
      "Epoch 35/100\n",
      "352643/352643 [==============================] - 9s 25us/sample - loss: 4.6986\n",
      "Epoch 36/100\n",
      "352643/352643 [==============================] - 9s 25us/sample - loss: 4.6967\n",
      "Epoch 37/100\n",
      "352643/352643 [==============================] - 9s 25us/sample - loss: 4.6918\n",
      "Epoch 38/100\n",
      "352643/352643 [==============================] - 9s 26us/sample - loss: 4.6842\n",
      "Epoch 39/100\n",
      "352643/352643 [==============================] - 9s 25us/sample - loss: 4.6723\n",
      "Epoch 40/100\n",
      "352643/352643 [==============================] - 9s 25us/sample - loss: 4.6665\n",
      "Epoch 41/100\n",
      "352643/352643 [==============================] - 9s 26us/sample - loss: 4.6644\n",
      "Epoch 42/100\n",
      "352643/352643 [==============================] - 9s 26us/sample - loss: 4.6661\n",
      "Epoch 43/100\n",
      "352643/352643 [==============================] - 9s 25us/sample - loss: 4.6600\n",
      "Epoch 44/100\n",
      "352643/352643 [==============================] - 9s 25us/sample - loss: 4.6549\n",
      "Epoch 45/100\n",
      "352643/352643 [==============================] - 9s 25us/sample - loss: 4.6583\n",
      "Epoch 46/100\n",
      "352643/352643 [==============================] - 9s 26us/sample - loss: 4.6558\n",
      "Epoch 47/100\n",
      "352643/352643 [==============================] - 9s 25us/sample - loss: 4.6511\n",
      "Epoch 48/100\n",
      "352643/352643 [==============================] - 9s 25us/sample - loss: 4.6498\n",
      "Epoch 49/100\n",
      "352643/352643 [==============================] - 9s 25us/sample - loss: 4.6430\n",
      "Epoch 50/100\n",
      "352643/352643 [==============================] - 9s 25us/sample - loss: 4.6397\n",
      "Epoch 51/100\n",
      "352643/352643 [==============================] - 9s 25us/sample - loss: 4.6474\n",
      "Epoch 52/100\n",
      "352643/352643 [==============================] - 9s 25us/sample - loss: 4.6487\n",
      "Epoch 53/100\n",
      "352643/352643 [==============================] - 9s 25us/sample - loss: 4.6383\n",
      "Epoch 54/100\n",
      "352643/352643 [==============================] - 9s 25us/sample - loss: 4.6382\n",
      "Epoch 55/100\n",
      "352643/352643 [==============================] - 9s 26us/sample - loss: 4.6362\n",
      "Epoch 56/100\n",
      "352643/352643 [==============================] - 9s 26us/sample - loss: 4.6355\n",
      "Epoch 57/100\n",
      "352643/352643 [==============================] - 9s 26us/sample - loss: 4.6371\n",
      "Epoch 58/100\n",
      "352643/352643 [==============================] - 9s 25us/sample - loss: 4.6428\n",
      "Epoch 59/100\n",
      "352643/352643 [==============================] - 9s 25us/sample - loss: 4.6371\n",
      "Epoch 60/100\n",
      "352643/352643 [==============================] - 9s 25us/sample - loss: 4.6353\n",
      "Epoch 61/100\n",
      "352643/352643 [==============================] - 9s 25us/sample - loss: 4.6422\n",
      "Epoch 62/100\n",
      "352643/352643 [==============================] - 9s 26us/sample - loss: 4.6378\n",
      "Epoch 63/100\n",
      "352643/352643 [==============================] - 9s 26us/sample - loss: 4.6390\n",
      "Epoch 64/100\n",
      "352643/352643 [==============================] - 9s 25us/sample - loss: 4.6430\n",
      "Epoch 65/100\n",
      "352643/352643 [==============================] - 9s 26us/sample - loss: 4.6441\n",
      "Epoch 66/100\n",
      "352643/352643 [==============================] - 9s 25us/sample - loss: 4.6396\n",
      "Epoch 67/100\n",
      "352643/352643 [==============================] - 9s 25us/sample - loss: 4.6414\n",
      "Epoch 68/100\n",
      "352643/352643 [==============================] - 9s 26us/sample - loss: 4.6264\n",
      "Epoch 69/100\n",
      "352643/352643 [==============================] - 9s 26us/sample - loss: 4.6279\n",
      "Epoch 70/100\n",
      "352643/352643 [==============================] - 9s 25us/sample - loss: 4.6278\n",
      "Epoch 71/100\n",
      "352643/352643 [==============================] - 9s 26us/sample - loss: 4.6275\n",
      "Epoch 72/100\n",
      "352643/352643 [==============================] - 9s 25us/sample - loss: 4.6188\n",
      "Epoch 73/100\n",
      "352643/352643 [==============================] - 9s 26us/sample - loss: 4.6354\n",
      "Epoch 74/100\n",
      "352643/352643 [==============================] - 9s 26us/sample - loss: 4.6335\n",
      "Epoch 75/100\n",
      "352643/352643 [==============================] - 9s 26us/sample - loss: 4.6390\n",
      "Epoch 76/100\n",
      "352643/352643 [==============================] - 9s 25us/sample - loss: 4.6447\n",
      "Epoch 77/100\n",
      "352643/352643 [==============================] - 9s 25us/sample - loss: 4.6386\n",
      "Epoch 78/100\n",
      "352643/352643 [==============================] - 9s 25us/sample - loss: 4.6509\n",
      "Epoch 79/100\n",
      "352643/352643 [==============================] - 9s 25us/sample - loss: 4.6508\n",
      "Epoch 80/100\n",
      "352643/352643 [==============================] - 9s 25us/sample - loss: 4.6541\n",
      "Epoch 81/100\n",
      "352643/352643 [==============================] - 9s 25us/sample - loss: 4.6578\n",
      "Epoch 82/100\n",
      "352643/352643 [==============================] - 9s 26us/sample - loss: 4.6483\n",
      "Epoch 83/100\n",
      "352643/352643 [==============================] - 9s 26us/sample - loss: 4.6460\n",
      "Epoch 84/100\n",
      "352643/352643 [==============================] - 9s 25us/sample - loss: 4.6453\n",
      "Epoch 85/100\n",
      "352643/352643 [==============================] - 9s 25us/sample - loss: 4.6504\n",
      "Epoch 86/100\n",
      "352643/352643 [==============================] - 9s 25us/sample - loss: 4.6411\n",
      "Epoch 87/100\n",
      "352643/352643 [==============================] - 9s 25us/sample - loss: 4.6394\n",
      "Epoch 88/100\n",
      "352643/352643 [==============================] - 9s 25us/sample - loss: 4.6308\n",
      "Epoch 89/100\n",
      "352643/352643 [==============================] - 9s 26us/sample - loss: 4.6213\n",
      "Epoch 90/100\n",
      "352643/352643 [==============================] - 9s 25us/sample - loss: 4.6178\n",
      "Epoch 91/100\n",
      "352643/352643 [==============================] - 9s 25us/sample - loss: 4.6095\n",
      "Epoch 92/100\n",
      "352643/352643 [==============================] - 9s 25us/sample - loss: 4.6008\n",
      "Epoch 93/100\n",
      "352643/352643 [==============================] - 9s 25us/sample - loss: 4.6019\n",
      "Epoch 94/100\n",
      "352643/352643 [==============================] - 9s 25us/sample - loss: 4.5919\n",
      "Epoch 95/100\n",
      "352643/352643 [==============================] - 9s 26us/sample - loss: 4.5881\n",
      "Epoch 96/100\n",
      "352643/352643 [==============================] - 9s 25us/sample - loss: 4.5879\n",
      "Epoch 97/100\n",
      "352643/352643 [==============================] - 9s 25us/sample - loss: 4.5854\n",
      "Epoch 98/100\n",
      "352643/352643 [==============================] - 9s 25us/sample - loss: 4.5915\n",
      "Epoch 99/100\n",
      "352643/352643 [==============================] - 9s 25us/sample - loss: 4.5914\n",
      "Epoch 100/100\n",
      "352643/352643 [==============================] - 9s 25us/sample - loss: 4.5894\n",
      "Training time: 898.42s\n"
     ]
    }
   ],
   "source": [
    "train_start = time.time()\n",
    "\n",
    "results = vae_model.fit(X_train_VAE, X_train_VAE,\n",
    "                        shuffle = True, # ***\n",
    "                        epochs = epochs,\n",
    "                        batch_size = batch_size).history\n",
    "                        \n",
    "train_end = time.time()\n",
    "train_time = train_end - train_start\n",
    "\n",
    "print(f\"Training time: {train_time:.2f}s\")"
   ]
  },
  {
   "cell_type": "code",
   "execution_count": 36,
   "metadata": {
    "scrolled": true
   },
   "outputs": [
    {
     "name": "stderr",
     "output_type": "stream",
     "text": [
      "2023-05-17 13:10:11.771260: I tensorflow/core/common_runtime/executor.cc:1197] [/device:CPU:0] (DEBUG INFO) Executor start aborting (this does not indicate an error and you can ignore this message): INVALID_ARGUMENT: You must feed a value for placeholder tensor 'inputs' with dtype float and shape [?,7]\n",
      "\t [[{{node inputs}}]]\n",
      "2023-05-17 13:10:11.778632: I tensorflow/core/common_runtime/executor.cc:1197] [/device:CPU:0] (DEBUG INFO) Executor start aborting (this does not indicate an error and you can ignore this message): INVALID_ARGUMENT: You must feed a value for placeholder tensor 'inputs' with dtype float and shape [?,7]\n",
      "\t [[{{node inputs}}]]\n",
      "2023-05-17 13:10:12.625660: I tensorflow/core/common_runtime/executor.cc:1197] [/device:CPU:0] (DEBUG INFO) Executor start aborting (this does not indicate an error and you can ignore this message): INVALID_ARGUMENT: You must feed a value for placeholder tensor 'inputs_0' with dtype float and shape [?,7]\n",
      "\t [[{{node inputs_0}}]]\n",
      "2023-05-17 13:10:12.636176: I tensorflow/core/common_runtime/executor.cc:1197] [/device:CPU:0] (DEBUG INFO) Executor start aborting (this does not indicate an error and you can ignore this message): INVALID_ARGUMENT: You must feed a value for placeholder tensor 'inputs_0' with dtype float and shape [?,7]\n",
      "\t [[{{node inputs_0}}]]\n"
     ]
    },
    {
     "name": "stdout",
     "output_type": "stream",
     "text": [
      "INFO:tensorflow:Assets written to: vae_model/assets\n"
     ]
    }
   ],
   "source": [
    "vae_model.save(\"vae_model\")\n",
    "saveHist(history_filename, results)"
   ]
  },
  {
   "cell_type": "code",
   "execution_count": null,
   "metadata": {},
   "outputs": [],
   "source": [
    "# vae_model_ = keras.models.load_model(\"vae_model\", compile=False)\n",
    "# vae_model_.compile(optimizer = opt, loss = vae_loss)\n",
    "\n",
    "# history1 = loadHist(history_filename)\n",
    "\n",
    "# vae_model_.summary()\n",
    "\n",
    "# result = vae_model_.score(X_test, Y_test)\n",
    "# print(result)"
   ]
  },
  {
   "cell_type": "code",
   "execution_count": 30,
   "metadata": {
    "colab": {
     "base_uri": "https://localhost:8080/",
     "height": 457
    },
    "id": "NScmwrVoRcLc",
    "outputId": "a96114fb-6c59-48b1-aea7-68d88c3a8a0e",
    "scrolled": false
   },
   "outputs": [
    {
     "data": {
      "image/png": "[encoded data removed]",
      "text/plain": [
       "<Figure size 640x480 with 1 Axes>"
      ]
     },
     "metadata": {},
     "output_type": "display_data"
    }
   ],
   "source": [
    "plt.plot(results['loss'])\n",
    "plt.title('Loss Pattern')\n",
    "plt.ylabel('Loss')\n",
    "plt.xlabel('epoch')\n",
    "plt.legend(['Train', 'Test'], loc='upper right');\n",
    "plt.show()"
   ]
  },
  {
   "cell_type": "code",
   "execution_count": 31,
   "metadata": {
    "id": "Ey_R5qdAzomM"
   },
   "outputs": [
    {
     "name": "stderr",
     "output_type": "stream",
     "text": [
      "/home/kaio/Desktop/poc2/lib/python3.10/site-packages/keras/engine/training_v1.py:2359: UserWarning: `Model.state_updates` will be removed in a future version. This property should not be used in TensorFlow 2.0, as `updates` are applied automatically.\n",
      "  updates=self.state_updates,\n",
      "2023-05-17 13:07:44.316071: W tensorflow/c/c_api.cc:300] Operation '{name:'decoder/dense_2/Sigmoid' id:178 op device:{requested: '', assigned: ''} def:{{{node decoder/dense_2/Sigmoid}} = Sigmoid[T=DT_FLOAT, _has_manual_control_dependencies=true](decoder/dense_2/BiasAdd)}}' was changed by setting attribute after it was run by a session. This mutation will have no effect, and will trigger an error in the future. Either don't modify nodes after running them or create a new session.\n"
     ]
    },
    {
     "name": "stdout",
     "output_type": "stream",
     "text": [
      "Attacks Predicted: 0.091733\n"
     ]
    }
   ],
   "source": [
    "# Prediction in Train Data\n",
    "X_train_pred = vae_model.predict(X_train_VAE)\n",
    "error_vector = get_error_term(X_train_pred, X_train_VAE, _rmse=False)\n",
    "\n",
    "attacks = (error_vector > anomaly_threshold)\n",
    "# Measure the error between the train set and its output and generates an error vector representing the error of each term\n",
    "# Find an extreme value on the vector to use as the error threshold\n",
    "\n",
    "# Percentage of attacks predicted in training data\n",
    "print(f'Attacks Predicted: {np.count_nonzero(attacks == 1) / len(attacks):.6f}')"
   ]
  },
  {
   "cell_type": "code",
   "execution_count": 32,
   "metadata": {},
   "outputs": [
    {
     "name": "stdout",
     "output_type": "stream",
     "text": [
      "Testing time: 2.23s\n",
      "\n",
      "Attacks Predicted (only benign): 0.115065\n"
     ]
    }
   ],
   "source": [
    "# Predicao com dados Benignos (30%) apenas de Teste == Cenário Normal\n",
    "test_start = time.time()\n",
    "\n",
    "X_pred_VAE_ = vae_model.predict(X_test_benign)\n",
    "\n",
    "test_end = time.time()\n",
    "test_time = test_end - test_start\n",
    "print(f\"Testing time: {test_time:.2f}s\\n\")\n",
    "\n",
    "error_vector_ = get_error_term(X_pred_VAE_, X_test_benign, _rmse=False)\n",
    "attacks_ = (error_vector_ > anomaly_threshold)\n",
    "\n",
    "# Percentage of attacks predicted\n",
    "print(f\"Attacks Predicted (only benign): {np.count_nonzero(attacks_ == 1) / len(attacks_):.6f}\")"
   ]
  },
  {
   "cell_type": "markdown",
   "metadata": {
    "id": "5vH4Sot0RdNm"
   },
   "source": [
    "## 3.3 Test"
   ]
  },
  {
   "cell_type": "code",
   "execution_count": 33,
   "metadata": {
    "colab": {
     "base_uri": "https://localhost:8080/"
    },
    "id": "yC3rGYgJbq9w",
    "outputId": "a157b6b1-1a12-4a83-a2e4-f43669583db5"
   },
   "outputs": [
    {
     "name": "stdout",
     "output_type": "stream",
     "text": [
      "Testing time: 89.10s\n",
      "\n",
      "Attacks Predicted: \t0.977033\n",
      "Real Attacks: \t\t0.975008\n"
     ]
    }
   ],
   "source": [
    "# Predicao com dados Benignos + Ataque em Teste == Cenário sob Ataque\n",
    "test_start = time.time()\n",
    "\n",
    "X_pred_VAE = vae_model.predict(X_test_VAE)\n",
    "\n",
    "test_end = time.time()\n",
    "test_time = test_end - test_start\n",
    "print(f\"Testing time: {test_time:.2f}s\\n\")\n",
    "\n",
    "# If the error of the vector is higher than the defined threshold it detects an attack\n",
    "error_vector = get_error_term(X_pred_VAE, X_test_VAE, _rmse=False)\n",
    "attacks = (error_vector > anomaly_threshold)\n",
    "\n",
    "# Percentage of attacks predicted\n",
    "print(f'Attacks Predicted: \\t{np.count_nonzero(attacks) / len(attacks):.6f}')\n",
    "\n",
    "# Quantidade real de ataques nos dados de teste\n",
    "print(f'Real Attacks: \\t\\t{np.count_nonzero(Y_test_VAE == 1) / len(Y_test_VAE):.6f}')"
   ]
  },
  {
   "cell_type": "markdown",
   "metadata": {
    "id": "JqFx2H23bZ62"
   },
   "source": [
    "## 3.4 Metrics"
   ]
  },
  {
   "cell_type": "code",
   "execution_count": 34,
   "metadata": {
    "id": "Q2yA3Dy6zpDG"
   },
   "outputs": [
    {
     "name": "stdout",
     "output_type": "stream",
     "text": [
      " ==== Test 23 features - Normal learning rate ====\n",
      "Training time: 14.97 min\n",
      "Testing time: 1.49 min\n",
      "              precision    recall  f1-score   support\n",
      "\n",
      "      Benign    0.96460   0.88643   0.92387    166784\n",
      "      Attack    0.99710   0.99917   0.99813   6506674\n",
      "\n",
      "    accuracy                        0.99635   6673458\n",
      "   macro avg    0.98085   0.94280   0.96100   6673458\n",
      "weighted avg    0.99628   0.99635   0.99627   6673458\n",
      "\n"
     ]
    }
   ],
   "source": [
    "target_names = ['Benign', 'Attack']\n",
    "\n",
    "print(f\" ==== Test {number_features} features - Normal learning rate ====\")\n",
    "print(f\"Training time: {train_time / 60:.2f} min\")\n",
    "print(f\"Testing time: {test_time / 60:.2f} min\")\n",
    "print(classification_report(Y_test_VAE, attacks, target_names=target_names, digits = 5))"
   ]
  },
  {
   "cell_type": "code",
   "execution_count": 35,
   "metadata": {
    "id": "6Xji54yrEG9R"
   },
   "outputs": [
    {
     "name": "stdout",
     "output_type": "stream",
     "text": [
      "[[ 147843   18941]\n",
      " [   5426 6501248]]\n"
     ]
    },
    {
     "data": {
      "image/png": "[encoded data removed]",
      "text/plain": [
       "<Figure size 640x480 with 2 Axes>"
      ]
     },
     "metadata": {},
     "output_type": "display_data"
    }
   ],
   "source": [
    "print(confusion_matrix(Y_test_VAE, attacks))\n",
    "ConfusionMatrixDisplay.from_predictions(Y_test_VAE, attacks, normalize='all')\n",
    "\n",
    "plt.show()"
   ]
  },
  {
   "cell_type": "code",
   "execution_count": null,
   "metadata": {},
   "outputs": [],
   "source": []
  }
 ],
 "metadata": {
  "colab": {
   "collapsed_sections": [
    "qza11QGutfDw",
    "_6pGD5Q1CMZG",
    "LNh5918tGctl"
   ],
   "provenance": []
  },
  "kernelspec": {
   "display_name": "Python 3 (ipykernel)",
   "language": "python",
   "name": "python3"
  },
  "language_info": {
   "codemirror_mode": {
    "name": "ipython",
    "version": 3
   },
   "file_extension": ".py",
   "mimetype": "text/x-python",
   "name": "python",
   "nbconvert_exporter": "python",
   "pygments_lexer": "ipython3",
   "version": "3.10.6"
  }
 },
 "nbformat": 4,
 "nbformat_minor": 1
}
